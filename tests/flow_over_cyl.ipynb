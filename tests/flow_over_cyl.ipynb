{
 "cells": [
  {
   "cell_type": "markdown",
   "id": "d2c8b338",
   "metadata": {},
   "source": [
    "# Flow over Cylinder Case"
   ]
  },
  {
   "cell_type": "code",
   "execution_count": null,
   "id": "4c2b030d",
   "metadata": {},
   "outputs": [],
   "source": [
    "from meshpy import triangle, geometry\n",
    "import numpy as np\n",
    "import jax.numpy as jnp\n",
    "import matplotlib.pyplot as plt\n",
    "from tqdm import tqdm\n",
    "import sys\n",
    "sys.path.append(\"..\")\n",
    "from src.mesher import *\n",
    "from src.environment import *\n",
    "from src.dynamics import *\n",
    "from src.refiner import *"
   ]
  },
  {
   "cell_type": "markdown",
   "id": "17edd5b0",
   "metadata": {},
   "source": [
    "## Building Geometry"
   ]
  },
  {
   "cell_type": "code",
   "execution_count": null,
   "id": "5f88426b",
   "metadata": {},
   "outputs": [],
   "source": [
    "builder = geometry.GeometryBuilder()"
   ]
  },
  {
   "cell_type": "code",
   "execution_count": null,
   "id": "5d9dec15",
   "metadata": {},
   "outputs": [],
   "source": [
    "points, facets, _, _ = geometry.make_box((0, 0), (6.0, 3.0))\n",
    "builder.add_geometry(points, facets, facet_markers=[1, 2, 3, 4])"
   ]
  },
  {
   "cell_type": "code",
   "execution_count": null,
   "id": "fd0d4111",
   "metadata": {},
   "outputs": [],
   "source": [
    "points, facets, _, facet_markers = geometry.make_circle(.25, (1.5, 1.5), 100, 5)\n",
    "builder.add_geometry(points, facets, facet_markers=facet_markers)"
   ]
  },
  {
   "cell_type": "code",
   "execution_count": null,
   "id": "e9fabd75",
   "metadata": {},
   "outputs": [],
   "source": [
    "for facet, marker in zip(builder.facets, builder.facet_markers):\n",
    "    match marker:\n",
    "        case 1:\n",
    "            color = 'blue'\n",
    "        case 2:\n",
    "            color = 'green'\n",
    "        case 3:\n",
    "            color = 'orange'\n",
    "        case 4:\n",
    "            color = 'purple'\n",
    "    plt.plot(np.asarray(builder.points)[facet, 0], np.asarray(builder.points)[facet, 1], color=color, linewidth=0.5)\n",
    "    plt.text(np.mean(np.asarray(builder.points)[facet, 0]), np.mean(np.asarray(builder.points)[facet, 1]), str(marker), fontsize=8, ha='center')\n",
    "plt.axis('equal')\n",
    "plt.show()\n"
   ]
  },
  {
   "cell_type": "code",
   "execution_count": null,
   "id": "cb2ebd23",
   "metadata": {},
   "outputs": [],
   "source": [
    "info = triangle.MeshInfo()\n",
    "builder.set(info)\n",
    "info.set_holes([(1.5,1.5)])"
   ]
  },
  {
   "cell_type": "markdown",
   "id": "2f437145",
   "metadata": {},
   "source": [
    "## Building Mesh"
   ]
  },
  {
   "cell_type": "code",
   "execution_count": null,
   "id": "0a424705",
   "metadata": {},
   "outputs": [],
   "source": [
    "mesh = triangle.build(info,\n",
    "                      min_angle=33.0,\n",
    "                      max_volume=.0005,\n",
    "                      generate_faces=True,\n",
    "                      volume_constraints=True,)\n",
    "np.array(mesh.elements).shape[0]"
   ]
  },
  {
   "cell_type": "code",
   "execution_count": null,
   "id": "160b7054",
   "metadata": {},
   "outputs": [],
   "source": [
    "improver = MeshRefiner(mesh,[(1.5,1.5)])\n",
    "improver.show_mesh_quality()\n",
    "mesh = improver.improve(aspect_thresh=3.0,\n",
    "                        skew_thresh=30.0,\n",
    "                        max_volume=0.0005,\n",
    "                        move_fraction=.25,\n",
    "                        max_iter=10)\n",
    "improver.show_mesh_quality()"
   ]
  },
  {
   "cell_type": "code",
   "execution_count": null,
   "id": "a02f4b7e",
   "metadata": {},
   "outputs": [],
   "source": [
    "mesh_points = np.array(mesh.points)\n",
    "mesh_tris = np.array(mesh.elements)\n",
    "mesh_attr = np.array(mesh.point_markers)\n",
    "\n",
    "import matplotlib.pyplot as plt\n",
    "\n",
    "plt.triplot(mesh_points[:, 0], mesh_points[:, 1], mesh_tris)\n",
    "plt.xlabel(\"x\")\n",
    "plt.ylabel(\"y\")\n",
    "#\n",
    "n = np.size(mesh_attr)\n",
    "inner_nodes = [i for i in range(n) if mesh_attr[i] == 1]\n",
    "outer_nodes = [i for i in range(n) if mesh_attr[i] == 3]\n",
    "plt.plot(mesh_points[inner_nodes, 0], mesh_points[inner_nodes, 1], \"ro\")\n",
    "plt.plot(mesh_points[outer_nodes, 0], mesh_points[outer_nodes, 1], \"go\")\n",
    "plt.axis(\"equal\")\n",
    "plt.axis([.75,1.25,.75,1.25])\n",
    "plt.show()"
   ]
  },
  {
   "cell_type": "code",
   "execution_count": null,
   "id": "e1c1cf6e",
   "metadata": {},
   "outputs": [],
   "source": [
    "mesher = Mesher()\n",
    "mesher.import_meshpy(mesh)\n",
    "mesher.calc_mesh_properties()\n",
    "mesher.verify_stencil_geometry()"
   ]
  },
  {
   "cell_type": "markdown",
   "id": "e0862d87",
   "metadata": {},
   "source": [
    "## Define Conditions"
   ]
  },
  {
   "cell_type": "code",
   "execution_count": null,
   "id": "53b08dc3",
   "metadata": {},
   "outputs": [],
   "source": [
    "# Given physical parameters\n",
    "Re = 100            # Reynolds number\n",
    "nu = 0.05     # physical kinematic viscosity\n",
    "L = 50             # circ length\n",
    "dx = 1           # spatial step\n",
    "dt = .1            # time step\n",
    "rho = .95          # density\n",
    "\n",
    "# Speed of sound squared for D2Q9 lattice\n",
    "c_s_sq = 1.0 / 3.0\n",
    "\n",
    "# Convert to lattice units\n",
    "U_lattice = Re * nu / L\n",
    "\n",
    "# Compute relaxation time tau\n",
    "Tau = nu / c_s_sq + 0.5\n",
    "\n",
    "# Print results\n",
    "print(f\"Inlet velocity (lattice units): {U_lattice:.5f}\")\n",
    "print(f\"Relaxation time tau: {Tau:.5f}\")\n",
    "U_lid = U_lattice\n",
    "dynamics = D2Q9(tau=Tau,delta_t = dt)"
   ]
  },
  {
   "cell_type": "code",
   "execution_count": null,
   "id": "66962c16",
   "metadata": {},
   "outputs": [],
   "source": [
    "cells,faces,nodes = mesher.to_env(dynamics,flux_method=\"upwind\")\n",
    "nodes = mesher.set_vel_node(nodes,marker = 4, velocity=jnp.array([U_lid, 0.0]))\n",
    "nodes = mesher.set_vel_node(nodes,marker = 3, velocity=jnp.array([0.0, 0.0]))\n",
    "nodes = mesher.set_vel_node(nodes,marker = 1, velocity=jnp.array([0.0, 0.0]))\n",
    "nodes = mesher.set_vel_node(nodes,marker = 5, velocity=jnp.array([0.0, 0.0]))\n",
    "nodes = mesher.set_rho_node(nodes,marker = 2, rho=rho)"
   ]
  },
  {
   "cell_type": "code",
   "execution_count": null,
   "id": "613047b1",
   "metadata": {},
   "outputs": [],
   "source": [
    "env = Environment(cells,faces,nodes)\n",
    "env.init()"
   ]
  },
  {
   "cell_type": "code",
   "execution_count": null,
   "id": "8b626321",
   "metadata": {},
   "outputs": [],
   "source": [
    "for i in tqdm(range(100000)):\n",
    "    env = env.step()"
   ]
  },
  {
   "cell_type": "code",
   "execution_count": null,
   "id": "b1cf2298",
   "metadata": {},
   "outputs": [],
   "source": [
    "xy = np.array(mesher.cell_centers)\n",
    "x = xy[:,0]\n",
    "y = xy[:,1]\n",
    "vel = env.cells.vel \n",
    "mag = np.sqrt(np.sum(vel**2,axis=-1))\n",
    "plt.quiver(x,y,vel[:,0],vel[:,1],mag,scale=10)\n",
    "xy = np.asarray(mesher.points)\n",
    "x = xy[:,0]\n",
    "y = xy[:,1]\n",
    "tri = np.asarray(mesher.cells)\n",
    "plt.triplot(x,y,tri,linewidth=0.5)\n",
    "plt.axis([1.2,1.8,1.2,1.8])\n",
    "plt.colorbar()\n",
    "plt.show()"
   ]
  },
  {
   "cell_type": "code",
   "execution_count": null,
   "id": "db810ff1",
   "metadata": {},
   "outputs": [],
   "source": [
    "xy = np.array(mesher.cell_centers)\n",
    "x = xy[:,0]\n",
    "y = xy[:,1]\n",
    "vel = env.cells.vel\n",
    "mag = np.sqrt(np.sum(vel**2,axis=-1))\n",
    "plt.scatter(x, y, c=mag, cmap='viridis', vmin=jnp.min(mag), vmax=jnp.max(mag), s=1, marker='o')\n",
    "plt.axis('equal')\n",
    "plt.colorbar()\n",
    "plt.show()"
   ]
  },
  {
   "cell_type": "code",
   "execution_count": null,
   "id": "ae616cfd",
   "metadata": {},
   "outputs": [],
   "source": [
    "xy = np.array(mesher.cell_centers)\n",
    "x = xy[:,0]\n",
    "y = xy[:,1]\n",
    "rho = env.cells.rho\n",
    "plt.scatter(x, y, c=rho, cmap='viridis', vmin=jnp.min(rho), vmax=jnp.max(rho), s=1, marker='o')\n",
    "plt.axis('equal')\n",
    "plt.colorbar()\n",
    "plt.show()"
   ]
  },
  {
   "cell_type": "code",
   "execution_count": null,
   "id": "ea187bfa",
   "metadata": {},
   "outputs": [],
   "source": []
  }
 ],
 "metadata": {
  "kernelspec": {
   "display_name": "fvdbm",
   "language": "python",
   "name": "python3"
  },
  "language_info": {
   "codemirror_mode": {
    "name": "ipython",
    "version": 3
   },
   "file_extension": ".py",
   "mimetype": "text/x-python",
   "name": "python",
   "nbconvert_exporter": "python",
   "pygments_lexer": "ipython3",
   "version": "3.12.4"
  }
 },
 "nbformat": 4,
 "nbformat_minor": 5
}
