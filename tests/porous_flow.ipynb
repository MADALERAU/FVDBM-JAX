{
 "cells": [
  {
   "cell_type": "code",
   "execution_count": null,
   "id": "ad775304",
   "metadata": {},
   "outputs": [],
   "source": [
    "import numpy as np\n",
    "import trimesh\n",
    "from meshpy import triangle, geometry\n",
    "import jax.numpy as jnp\n",
    "from matplotlib.path import Path\n",
    "from tqdm import tqdm\n",
    "import sys\n",
    "sys.path.append(\"..\")\n",
    "from src.mesher import *\n",
    "from src.environment import *\n",
    "from src.dynamics import *\n",
    "from src.refiner import *"
   ]
  },
  {
   "cell_type": "markdown",
   "id": "34bdc29b",
   "metadata": {},
   "source": [
    "# Geometry Definition"
   ]
  },
  {
   "cell_type": "code",
   "execution_count": null,
   "id": "437dac7b",
   "metadata": {},
   "outputs": [],
   "source": [
    "from_stl = False\n",
    "from_bmp = True"
   ]
  },
  {
   "cell_type": "markdown",
   "id": "79dc2c53",
   "metadata": {},
   "source": [
    "## From STL"
   ]
  },
  {
   "cell_type": "code",
   "execution_count": null,
   "id": "bb3a1cde",
   "metadata": {},
   "outputs": [],
   "source": [
    "if from_stl:\n",
    "    # Load STL\n",
    "    mesh = trimesh.load('Slice A_2D.stl')\n",
    "\n",
    "    # Slice plane at Z=0\n",
    "    plane_origin = [0, 0, 0]\n",
    "    plane_normal = [0, 0, 1]\n",
    "\n",
    "    # Get slice as Path3D\n",
    "    slice_path = mesh.section(plane_origin=plane_origin, plane_normal=plane_normal)\n",
    "    if slice_path is None:\n",
    "        raise ValueError(\"No intersection at Z=0\")\n",
    "\n",
    "    # Get discrete points along the slice edges\n",
    "    # slice_path.entities are line segments or polylines that define the slice\n",
    "    edges = []\n",
    "    geoms = []\n",
    "    for entity in slice_path.entities:\n",
    "        # Each entity has vertices indices pointing into slice_path.vertices\n",
    "        verts_idx = entity.points\n",
    "        # entity.points is Nx3 points in 3D, depending on entity type\n",
    "        # For Line, get start and end points\n",
    "        if len(verts_idx) > 10:\n",
    "            # For example, get consecutive pairs of points as edges\n",
    "            temp_edges = []\n",
    "            for i in range(len(verts_idx)-1):\n",
    "                p0 = verts_idx[i]\n",
    "                p1 = verts_idx[i+1]\n",
    "                edges.append([p0, p1])\n",
    "                temp_edges.append([i, i+1])\n",
    "            points = np.asarray(slice_path.vertices[verts_idx, :2])\n",
    "            facets = np.asarray(temp_edges)\n",
    "            holes = np.mean(points,axis=0)\n",
    "            poly = points[facets[:,0]]\n",
    "            path = Path(poly)\n",
    "            if not path.contains_point(holes):\n",
    "                print(\"adjusting hole at\", holes)\n",
    "                nearest_point = points[np.linalg.norm(points-holes, axis=1).argmin()]\n",
    "                holes = nearest_point+.1 * (nearest_point - holes)\n",
    "            \n",
    "            geoms.append((points, facets, holes))"
   ]
  },
  {
   "cell_type": "code",
   "execution_count": null,
   "id": "653f346a",
   "metadata": {},
   "outputs": [],
   "source": [
    "if from_stl:\n",
    "    points = slice_path.vertices[:, :2]\n",
    "    facets = np.asarray(edges)\n",
    "\n",
    "    plt.scatter(points[:, 0], points[:, 1])\n",
    "\n",
    "    for edge in facets:\n",
    "        p1, p2 = points[edge]\n",
    "        plt.plot([p1[0], p2[0]], [p1[1], p2[1]], 'k-')\n",
    "\n",
    "    plt.gca().set_aspect('equal')\n",
    "    plt.show()"
   ]
  },
  {
   "cell_type": "markdown",
   "id": "f17fcc27",
   "metadata": {},
   "source": [
    "## From BMP"
   ]
  },
  {
   "cell_type": "code",
   "execution_count": null,
   "id": "00137df7",
   "metadata": {},
   "outputs": [],
   "source": [
    "if from_bmp:\n",
    "    from scipy.io import loadmat\n",
    "    test = loadmat('test_bmp.mat')\n",
    "    x = test[\"x\"]\n",
    "    y = test[\"y\"]\n",
    "    id = test[\"id\"]\n",
    "    holes = []\n",
    "    for i in np.unique(id):\n",
    "        mask = id == i\n",
    "        x_i = x[mask]\n",
    "        y_i = y[mask]\n",
    "        holes.append(np.stack([x_i, y_i],axis=-1))\n"
   ]
  },
  {
   "cell_type": "code",
   "execution_count": null,
   "id": "1b2a9170",
   "metadata": {},
   "outputs": [],
   "source": [
    "if from_bmp:\n",
    "    for hole in holes:\n",
    "        plt.plot(hole[:, 0], hole[:, 1], 'r-')\n",
    "    plt.show()"
   ]
  },
  {
   "cell_type": "markdown",
   "id": "d87f9321",
   "metadata": {},
   "source": [
    "## Geometry Processing"
   ]
  },
  {
   "cell_type": "code",
   "execution_count": null,
   "id": "5993302a",
   "metadata": {},
   "outputs": [],
   "source": [
    "from shapely.geometry import Polygon\n",
    "from shapely.ops import unary_union\n",
    "\n",
    "\n",
    "# Define bounding box\n",
    "bbox_points = [(-93, 0.), (186+93, 0.), (186+93, 186), (-93, 186)]\n",
    "bounding_box = Polygon(bbox_points)\n",
    "\n",
    "# Example: list of holes (make sure each is a list of (x,y) points)\n",
    "if from_stl:\n",
    "    holes = unary_union([Polygon(geom[0]) for geom in geoms])\n",
    "elif from_bmp:\n",
    "    holes = unary_union([Polygon(hole) for hole in holes])\n",
    "    print(\"holes from bmp\")\n",
    "\n",
    "# Create polygon with holes\n",
    "domain = Polygon(bbox_points)\n",
    "\n",
    "domain_with_holes = domain.difference(holes)"
   ]
  },
  {
   "cell_type": "code",
   "execution_count": null,
   "id": "dd2f02bd",
   "metadata": {},
   "outputs": [],
   "source": [
    "import matplotlib.pyplot as plt\n",
    "from shapely.geometry import Polygon,MultiPolygon\n",
    " \n",
    "# Visualize the mesh boundary and holes\n",
    "fig, ax = plt.subplots()\n",
    " \n",
    "# Plot exterior boundary\n",
    "if type(domain_with_holes) == MultiPolygon:\n",
    "    domain_with_holes = domain_with_holes.geoms[0]\n",
    "\n",
    "exterior = np.array(domain_with_holes.exterior.coords)\n",
    "ax.plot(exterior[:,0], exterior[:,1], 'b.-', label='Boundary')\n",
    "holes = domain_with_holes.interiors\n",
    "\n",
    "for i, hole in enumerate(holes):\n",
    "    hole_coords = np.array(hole.coords)\n",
    "    ax.plot(hole_coords[:,0], hole_coords[:,1], 'r--', label=f'Hole {i+1}')\n",
    "\n",
    "ax.set_aspect('equal')\n",
    "plt.show()"
   ]
  },
  {
   "cell_type": "markdown",
   "id": "1a3b6804",
   "metadata": {},
   "source": [
    "## To Triangle"
   ]
  },
  {
   "cell_type": "code",
   "execution_count": null,
   "id": "a40884dd",
   "metadata": {},
   "outputs": [],
   "source": [
    "builder = geometry.GeometryBuilder()\n",
    "\n",
    "def get_facets(points):\n",
    "    facets = np.asarray([(i,i+1) for i in range(len(points)-1)])\n",
    "    facets[-1][1] = 0\n",
    "    return np.asarray(points),facets\n",
    "\n",
    "def custom_box_markers(points,facets,markers=[1,2,3,4]):\n",
    "    corners = np.stack([np.max(points,axis=0),np.min(points,axis=0)])\n",
    "    corner_points = np.concatenate([np.where(points[:-1,0] == corners[0,0])[0],np.where(points[:-1,0] == corners[1,0])[0]])\n",
    "    i=-1\n",
    "    facet_markers = []\n",
    "    for facet in facets:\n",
    "        if facet[0] in corner_points:\n",
    "            i += 1\n",
    "        facet_markers.append(markers[i])\n",
    "    return facet_markers\n",
    "\n",
    "points,facets = get_facets(domain_with_holes.exterior.coords)\n",
    "facet_markers = custom_box_markers(points, facets)\n",
    "\n",
    "builder.add_geometry(points,facets,facet_markers=facet_markers)\n",
    "holes = []\n",
    "for points in domain_with_holes.interiors:\n",
    "    points,facets = get_facets(points.coords)\n",
    "    builder.add_geometry(points,facets,facet_markers=5)\n",
    "    temp_holes = np.mean(points,axis=0)\n",
    "    poly = points\n",
    "    path = Path(poly)\n",
    "    if not path.contains_point(temp_holes):\n",
    "        print(\"adjusting hole at\", temp_holes)\n",
    "        nearest_point = points[np.linalg.norm(points-temp_holes, axis=1).argmin()]\n",
    "        temp_holes = nearest_point+.1 * (nearest_point - temp_holes)\n",
    "    holes.append(temp_holes)"
   ]
  },
  {
   "cell_type": "code",
   "execution_count": null,
   "id": "96cfbbff",
   "metadata": {},
   "outputs": [],
   "source": [
    "for facet, marker in zip(builder.facets, builder.facet_markers):\n",
    "    match marker:\n",
    "        case 1:\n",
    "            color = 'blue'\n",
    "        case 2:\n",
    "            color = 'green'\n",
    "        case 3:\n",
    "            color = 'orange'\n",
    "        case 4:\n",
    "            color = 'purple'\n",
    "        case 5:\n",
    "            color = \"black\"\n",
    "    plt.plot(np.asarray(builder.points)[facet, 0], np.asarray(builder.points)[facet, 1], color=color, linewidth=0.5)\n",
    "    #plt.text(np.mean(np.asarray(builder.points)[facet, 0]), np.mean(np.asarray(builder.points)[facet, 1]), str(marker), fontsize=8, ha='center')\n",
    "plt.axis('equal')\n",
    "plt.show()"
   ]
  },
  {
   "cell_type": "code",
   "execution_count": null,
   "id": "c4973b87",
   "metadata": {},
   "outputs": [],
   "source": [
    "for facet in builder.facets:\n",
    "    plt.plot(np.asarray(builder.points)[facet, 0], np.asarray(builder.points)[facet, 1], color=\"r\", linewidth=0.5)\n",
    "plt.scatter(np.asarray(holes)[:, 0], np.asarray(holes)[:, 1], color=\"b\", s=10, label=\"Holes\")\n",
    "plt.axis('equal')\n",
    "plt.show()"
   ]
  },
  {
   "cell_type": "markdown",
   "id": "67d37fd0",
   "metadata": {},
   "source": [
    "## Meshing"
   ]
  },
  {
   "cell_type": "code",
   "execution_count": null,
   "id": "3144b867",
   "metadata": {},
   "outputs": [],
   "source": [
    "info = triangle.MeshInfo()\n",
    "builder.set(info)\n",
    "info.set_holes(np.asarray(holes))"
   ]
  },
  {
   "cell_type": "code",
   "execution_count": null,
   "id": "04aafa3e",
   "metadata": {},
   "outputs": [],
   "source": [
    "mesh = triangle.build(info,\n",
    "                      max_volume=.3,\n",
    "                      min_angle=30.0, \n",
    "                      generate_faces=True,\n",
    "                      volume_constraints=True)\n",
    "#print(np.array(mesh.points).shape[0])"
   ]
  },
  {
   "cell_type": "code",
   "execution_count": null,
   "id": "dcd1b89e",
   "metadata": {},
   "outputs": [],
   "source": [
    "print(np.array(mesh.points).shape[0])"
   ]
  },
  {
   "cell_type": "code",
   "execution_count": null,
   "id": "fe5ed7f7",
   "metadata": {},
   "outputs": [],
   "source": [
    "improver = MeshRefiner(mesh,np.asarray(holes))\n",
    "improver.show_mesh_quality()\n",
    "mesh = improver.improve(aspect_thresh=3.0,\n",
    "                        skew_thresh=30.0,\n",
    "                        max_volume=0.00001,\n",
    "                        move_fraction=.25,\n",
    "                        max_iter=10)\n",
    "improver.show_mesh_quality()"
   ]
  },
  {
   "cell_type": "code",
   "execution_count": null,
   "id": "b48c4cbb",
   "metadata": {},
   "outputs": [],
   "source": [
    "mesh_points = np.array(mesh.points)\n",
    "mesh_tris = np.array(mesh.elements)\n",
    "mesh_attr = np.array(mesh.point_markers)\n",
    "\n",
    "for i,marker in enumerate(mesh_attr):\n",
    "    if marker != 0:\n",
    "        match marker:\n",
    "            case 1:\n",
    "                color = 'blue'\n",
    "            case 2:\n",
    "                color = 'green'\n",
    "            case 3:\n",
    "                color = 'orange'\n",
    "            case 4:\n",
    "                color = 'purple'\n",
    "            case 5:\n",
    "                color = \"black\"\n",
    "            case _:\n",
    "                color = \"white\"\n",
    "        \n",
    "        plt.plot(mesh_points[i,0],mesh_points[i,1],color=color, marker='.')\n",
    "\n",
    "plt.triplot(mesh_points[:, 0], mesh_points[:, 1], mesh_tris)\n",
    "plt.xlabel(\"x\")\n",
    "plt.ylabel(\"y\")\n",
    "plt.axis(\"equal\")\n",
    "#plt.axis([0,.1,0,.1])\n",
    "plt.show()"
   ]
  },
  {
   "cell_type": "markdown",
   "id": "72c1a645",
   "metadata": {},
   "source": [
    "# Mesh Pre-Processing"
   ]
  },
  {
   "cell_type": "code",
   "execution_count": null,
   "id": "2e2e2ea1",
   "metadata": {},
   "outputs": [],
   "source": [
    "mesher = Mesher()\n",
    "mesher.import_meshpy(mesh)\n",
    "mesher.calc_mesh_properties()\n",
    "mesher.verify_stencil_geometry()"
   ]
  },
  {
   "cell_type": "markdown",
   "id": "d36f4ca4",
   "metadata": {},
   "source": [
    "# Env Definitiion"
   ]
  },
  {
   "cell_type": "code",
   "execution_count": null,
   "id": "c79b75d9",
   "metadata": {},
   "outputs": [],
   "source": [
    "Tau = 0.65\n",
    "dt = .1            # time step *** run 1 mill steps\n",
    "rho_in = 1.05      # inlet density\n",
    "rho_out = .95          # outlet density\n",
    "\n",
    "dynamics = D2Q9(tau=Tau,delta_t = dt)"
   ]
  },
  {
   "cell_type": "code",
   "execution_count": null,
   "id": "de6fce17",
   "metadata": {},
   "outputs": [],
   "source": [
    "cells,faces,nodes = mesher.to_env(dynamics,flux_method=\"lax_wendroff\")\n",
    "nodes = mesher.set_vel_node(nodes,marker=5,velocity=np.asarray((0,0)))\n",
    "nodes = mesher.set_vel_node(nodes,marker=2,velocity=np.asarray((0,0)))\n",
    "nodes = mesher.set_vel_node(nodes,marker=4,velocity=np.asarray((0,0)))\n",
    "nodes = mesher.set_rho_node(nodes,marker=1,rho=rho_in)\n",
    "nodes = mesher.set_rho_node(nodes,marker=3,rho=rho_out)"
   ]
  },
  {
   "cell_type": "code",
   "execution_count": null,
   "id": "07286484",
   "metadata": {},
   "outputs": [],
   "source": [
    "env = Environment(cells,faces,nodes)\n",
    "env.init()"
   ]
  },
  {
   "cell_type": "markdown",
   "id": "25741944",
   "metadata": {},
   "source": [
    "Temp Save"
   ]
  },
  {
   "cell_type": "code",
   "execution_count": null,
   "id": "af3a50f8",
   "metadata": {},
   "outputs": [],
   "source": [
    "mesher.to_pickle(env,'porous_temp')"
   ]
  },
  {
   "cell_type": "markdown",
   "id": "0ef1a5b7",
   "metadata": {},
   "source": [
    "# Simulation"
   ]
  },
  {
   "cell_type": "code",
   "execution_count": null,
   "id": "a173dac1",
   "metadata": {},
   "outputs": [],
   "source": [
    "for i in tqdm(range(1000000)):\n",
    "    env = env.step()"
   ]
  },
  {
   "cell_type": "markdown",
   "id": "a8721282",
   "metadata": {},
   "source": [
    "# Post Processing"
   ]
  },
  {
   "cell_type": "code",
   "execution_count": null,
   "id": "a54b3f94",
   "metadata": {},
   "outputs": [],
   "source": [
    "xy = np.array(mesher.cell_centers)\n",
    "x = xy[:,0]\n",
    "y = xy[:,1]\n",
    "vel = env.cells.vel \n",
    "mag = np.sqrt(np.sum(vel**2,axis=-1))\n",
    "fig = plt.figure(figsize=(20,10))\n",
    "plt.quiver(x,y,vel[:,0],vel[:,1],mag,scale=.5,headlength=5,headwidth=3,width=.001)\n",
    "xy = np.asarray(mesher.points)\n",
    "x = xy[:,0]\n",
    "y = xy[:,1]\n",
    "tri = np.asarray(mesher.cells)\n",
    "import matplotlib.tri as mtri\n",
    "triangles = mtri.Triangulation(x, y, tri)\n",
    "plt.triplot(triangles, linewidth=0.1)\n",
    "plt.axis(\"equal\")\n",
    "plt.colorbar(label=\"Velocity Magnitude\")\n",
    "plt.show()"
   ]
  },
  {
   "cell_type": "code",
   "execution_count": null,
   "id": "ffaf6dcb",
   "metadata": {},
   "outputs": [],
   "source": [
    "vel = env.cells.vel\n",
    "mag = np.sqrt(np.sum(vel**2,axis=-1))\n",
    "fig = plt.figure(figsize=(20,10))\n",
    "plt.tripcolor(triangles, mag, cmap='viridis', vmin=jnp.min(mag), vmax=jnp.max(mag))\n",
    "plt.axis('equal')\n",
    "#plt.xlim(0,.3)\n",
    "plt.colorbar(label=\"Velocity Magnitude\")\n",
    "plt.show()"
   ]
  },
  {
   "cell_type": "code",
   "execution_count": null,
   "id": "503fcfe5",
   "metadata": {},
   "outputs": [],
   "source": [
    "rho = env.cells.rho[:,0]\n",
    "fig = plt.figure(figsize=(20,10))\n",
    "plt.tripcolor(triangles, rho, cmap='viridis', vmin=jnp.min(rho), vmax=jnp.max(rho))\n",
    "plt.axis('equal')\n",
    "#plt.xlim(0,.3)\n",
    "plt.colorbar(label=\"Density\")\n",
    "plt.show()"
   ]
  },
  {
   "cell_type": "code",
   "execution_count": null,
   "id": "fe713062",
   "metadata": {},
   "outputs": [],
   "source": [
    "mesher.to_vtk(env,'porous_flow')\n",
    "mesher.to_pickle(env,'porous_flow')"
   ]
  },
  {
   "cell_type": "markdown",
   "id": "6d8bac6f",
   "metadata": {},
   "source": [
    "# Load from save"
   ]
  },
  {
   "cell_type": "code",
   "execution_count": null,
   "id": "b0c4181b",
   "metadata": {},
   "outputs": [],
   "source": [
    "env,mesher = Mesher.from_pickle('porous_flow')"
   ]
  }
 ],
 "metadata": {
  "kernelspec": {
   "display_name": "fvdbm",
   "language": "python",
   "name": "python3"
  },
  "language_info": {
   "codemirror_mode": {
    "name": "ipython",
    "version": 3
   },
   "file_extension": ".py",
   "mimetype": "text/x-python",
   "name": "python",
   "nbconvert_exporter": "python",
   "pygments_lexer": "ipython3",
   "version": "3.12.4"
  }
 },
 "nbformat": 4,
 "nbformat_minor": 5
}
