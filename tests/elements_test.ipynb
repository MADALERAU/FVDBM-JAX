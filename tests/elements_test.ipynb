{
 "cells": [
  {
   "cell_type": "code",
   "execution_count": 2,
   "metadata": {},
   "outputs": [],
   "source": [
    "import sys\n",
    "sys.path.append(\"..\")\n",
    "from src.elements import *\n",
    "from src.dynamics import *\n",
    "from utils.test_utils import *"
   ]
  },
  {
   "cell_type": "code",
   "execution_count": 3,
   "metadata": {},
   "outputs": [
    {
     "data": {
      "text/plain": [
       "{'pdf': Array([0.2886654 , 0.29881203, 0.08830404, 0.3851967 , 0.70588243,\n",
       "        0.38552713, 0.29527557, 0.52413   , 0.97748315], dtype=float32),\n",
       " 'rho': Array(0.84439695, dtype=float32),\n",
       " 'vel': Array([0.06867361, 0.169662  ], dtype=float32)}"
      ]
     },
     "execution_count": 3,
     "metadata": {},
     "output_type": "execute_result"
    }
   ],
   "source": [
    "# Defining test vars\n",
    "key = Key(89524)    # Random key\n",
    "dynamics = D2Q9()\n",
    "pdf = jax.random.uniform(key(),dynamics.ones_pdf().shape)\n",
    "rho = jax.random.uniform(key(),())\n",
    "vel = jax.random.uniform(key(),(2,))\n",
    "\n",
    "Element.dynamics = dynamics\n",
    "\n",
    "# Using Default Initialization\n",
    "el1 = Element(pdf,rho,vel)\n",
    "el1.__dict__"
   ]
  },
  {
   "cell_type": "code",
   "execution_count": 7,
   "metadata": {},
   "outputs": [],
   "source": [
    "cells = ElementContainer(\"cells\",[Cell.pdf_init(jax.random.uniform(key(),dynamics.ones_pdf().shape),jnp.asarray([])) for i in range(10)])"
   ]
  },
  {
   "cell_type": "code",
   "execution_count": 9,
   "metadata": {},
   "outputs": [
    {
     "data": {
      "text/plain": [
       "PyTreeDef({'faces_index': *, 'pdf': *, 'pdf_eq': *, 'rho': *, 'vel': *})"
      ]
     },
     "execution_count": 9,
     "metadata": {},
     "output_type": "execute_result"
    }
   ],
   "source": [
    "params = cells.flatten()\n",
    "jax.tree.structure(params)"
   ]
  },
  {
   "cell_type": "markdown",
   "metadata": {},
   "source": [
    "Multi Element Container Test"
   ]
  },
  {
   "cell_type": "code",
   "execution_count": 17,
   "metadata": {},
   "outputs": [],
   "source": [
    "n_cells = 100\n",
    "n_faces = 100\n",
    "cells = [Cell.pdf_init(jax.random.uniform(key(),dynamics.ones_pdf().shape),jnp.asarray([])) for i in range(n_cells)]\n",
    "faces = [Face.pdf_init(jax.random.uniform(key(),dynamics.ones_pdf().shape),jnp.asarray([]),jnp.asarray([]),jnp.asarray([])) for i in range(n_faces)]"
   ]
  },
  {
   "cell_type": "code",
   "execution_count": 18,
   "metadata": {},
   "outputs": [],
   "source": [
    "cells = ElementContainer(\"cells\",cells)\n",
    "faces = ElementContainer(\"faces\",faces)\n",
    "elements = MultiElementContainer(\"cellsandfaces\",cells,faces)"
   ]
  },
  {
   "cell_type": "code",
   "execution_count": 22,
   "metadata": {},
   "outputs": [
    {
     "data": {
      "text/plain": [
       "PyTreeDef({'cells': {'faces_index': *, 'pdf': *, 'pdf_eq': *, 'rho': *, 'vel': *}, 'faces': {'flux': *, 'nodes_index': *, 'pdf': *, 'rho': *, 'stencil_cells_index': *, 'stencil_dists': *, 'vel': *}})"
      ]
     },
     "execution_count": 22,
     "metadata": {},
     "output_type": "execute_result"
    }
   ],
   "source": [
    "jax.tree.structure(elements.flatten())"
   ]
  },
  {
   "cell_type": "code",
   "execution_count": null,
   "metadata": {},
   "outputs": [],
   "source": []
  }
 ],
 "metadata": {
  "kernelspec": {
   "display_name": "fvdbm",
   "language": "python",
   "name": "python3"
  },
  "language_info": {
   "codemirror_mode": {
    "name": "ipython",
    "version": 3
   },
   "file_extension": ".py",
   "mimetype": "text/x-python",
   "name": "python",
   "nbconvert_exporter": "python",
   "pygments_lexer": "ipython3",
   "version": "3.12.4"
  }
 },
 "nbformat": 4,
 "nbformat_minor": 2
}
