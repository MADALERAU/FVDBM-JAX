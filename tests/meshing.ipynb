{
 "cells": [
  {
   "cell_type": "code",
   "execution_count": null,
   "id": "7c647c70",
   "metadata": {},
   "outputs": [],
   "source": [
    "from meshpy import triangle, geometry\n",
    "import numpy as np\n",
    "import matplotlib.pyplot as plt\n",
    "import sys\n",
    "sys.path.append('..')\n",
    "from src.mesher import *\n",
    "from src.environment import *\n",
    "from src.dynamics import *\n",
    "from src.refiner import MeshRefiner\n",
    "from tqdm import tqdm"
   ]
  },
  {
   "cell_type": "markdown",
   "id": "c05c78a4",
   "metadata": {},
   "source": [
    "# Example Code for using meshpy"
   ]
  },
  {
   "cell_type": "markdown",
   "id": "053f97d0",
   "metadata": {},
   "source": [
    "## Building Geometry"
   ]
  },
  {
   "cell_type": "code",
   "execution_count": null,
   "id": "b8f6ff1d",
   "metadata": {},
   "outputs": [],
   "source": [
    "builder = geometry.GeometryBuilder()"
   ]
  },
  {
   "cell_type": "markdown",
   "id": "852c5fa2",
   "metadata": {},
   "source": [
    "Add Circle"
   ]
  },
  {
   "cell_type": "code",
   "execution_count": null,
   "id": "4feeddb5",
   "metadata": {},
   "outputs": [],
   "source": [
    "# points,facets,_,facet_markers = geometry.make_circle(.5,(1.0,1.0),marker = 1,subdivisions=200)\n",
    "# builder.add_geometry(points,facets,facet_markers=facet_markers)"
   ]
  },
  {
   "cell_type": "markdown",
   "id": "518f4965",
   "metadata": {},
   "source": [
    "Add Box"
   ]
  },
  {
   "cell_type": "code",
   "execution_count": null,
   "id": "4ea2a9cd",
   "metadata": {},
   "outputs": [],
   "source": [
    "points,facets,_,_ = geometry.make_box((0, 0), (2.0, 2.0),subdivisions=(200, 200))\n",
    "builder.add_geometry(points,facets, facet_markers=1)"
   ]
  },
  {
   "cell_type": "markdown",
   "id": "6151cd39",
   "metadata": {},
   "source": [
    "## Setting Mesh Info"
   ]
  },
  {
   "cell_type": "code",
   "execution_count": null,
   "id": "69aa723d",
   "metadata": {},
   "outputs": [],
   "source": [
    "info = triangle.MeshInfo()\n",
    "builder.set(info)\n",
    "#info.set_holes([(1.0, 1.0)]) # Sets center circle as a hole"
   ]
  },
  {
   "cell_type": "code",
   "execution_count": null,
   "id": "2da13d80",
   "metadata": {},
   "outputs": [],
   "source": [
    "# points = np.asarray([[.005,.005],[.005,1.995],[1.995,.005],[1.995,1.995]])\n",
    "# points = np.vstack([np.array(info.points),points])"
   ]
  },
  {
   "cell_type": "code",
   "execution_count": null,
   "id": "ff709196",
   "metadata": {},
   "outputs": [],
   "source": [
    "# info.set_points(points)"
   ]
  },
  {
   "cell_type": "code",
   "execution_count": null,
   "id": "6af58d27",
   "metadata": {},
   "outputs": [],
   "source": [
    "points = np.array(info.points)\n",
    "plt.scatter(points[...,0], points[...,1], s=1, c='blue', label='Mesh Points')\n",
    "#plt.axis([0,.1,0,.1])\n",
    "plt.show()"
   ]
  },
  {
   "cell_type": "markdown",
   "id": "dabb872b",
   "metadata": {},
   "source": [
    "Meshing"
   ]
  },
  {
   "cell_type": "code",
   "execution_count": null,
   "id": "2e0f1c8e",
   "metadata": {},
   "outputs": [],
   "source": [
    "mesh = triangle.build(info,min_angle=33.0,\n",
    "                      max_volume=.0001,\n",
    "                      generate_faces=True,\n",
    "                      generate_neighbor_lists=True,\n",
    "                      attributes=True,\n",
    "                      volume_constraints=True)"
   ]
  },
  {
   "cell_type": "code",
   "execution_count": null,
   "id": "6be02a28",
   "metadata": {},
   "outputs": [],
   "source": [
    "np.array(mesh.elements).shape"
   ]
  },
  {
   "cell_type": "code",
   "execution_count": null,
   "id": "e7a4cb84",
   "metadata": {},
   "outputs": [],
   "source": [
    "improver = MeshRefiner(mesh)\n",
    "improver.show_mesh_quality()\n",
    "mesh = improver.improve(aspect_thresh=3.0,\n",
    "                        skew_thresh=30.0,\n",
    "                        max_volume=0.0001,\n",
    "                        move_fraction=0.25,\n",
    "                        max_iter=20,\n",
    "                        smoothing=True,\n",
    "                        edge_flipping=False,\n",
    "                        angle_smoothing=True,\n",
    "                        selective_refinement=True,\n",
    "                        patch_remesh=False)\n",
    "improver.show_mesh_quality()"
   ]
  },
  {
   "cell_type": "markdown",
   "id": "66caa80f",
   "metadata": {},
   "source": [
    "## Plotting"
   ]
  },
  {
   "cell_type": "code",
   "execution_count": null,
   "id": "89d5c336",
   "metadata": {},
   "outputs": [],
   "source": [
    "mesh_points = np.array(mesh.points)\n",
    "mesh_tris = np.array(mesh.elements)\n",
    "mesh_attr = np.array(mesh.point_markers)\n",
    "\n",
    "import matplotlib.pyplot as plt\n",
    "\n",
    "plt.triplot(mesh_points[:, 0], mesh_points[:, 1], mesh_tris)\n",
    "plt.xlabel(\"x\")\n",
    "plt.ylabel(\"y\")\n",
    "#\n",
    "n = np.size(mesh_attr)\n",
    "inner_nodes = [i for i in range(n) if mesh_attr[i] == 1]\n",
    "outer_nodes = [i for i in range(n) if mesh_attr[i] == 3]\n",
    "plt.plot(mesh_points[inner_nodes, 0], mesh_points[inner_nodes, 1], \"ro\")\n",
    "plt.plot(mesh_points[outer_nodes, 0], mesh_points[outer_nodes, 1], \"go\")\n",
    "plt.axis(\"equal\")\n",
    "plt.axis([0,.1,0,.1])\n",
    "plt.show()"
   ]
  },
  {
   "cell_type": "code",
   "execution_count": null,
   "id": "ed56373c",
   "metadata": {},
   "outputs": [],
   "source": [
    "import sys\n",
    "sys.path.append('..')\n",
    "from src.mesher import *\n",
    "from src.environment import *\n",
    "from src.dynamics import *\n",
    "mesher = Mesher()\n",
    "mesher.import_meshpy(mesh)"
   ]
  },
  {
   "cell_type": "code",
   "execution_count": null,
   "id": "590caad7",
   "metadata": {},
   "outputs": [],
   "source": [
    "mesher.calc_mesh_properties()"
   ]
  },
  {
   "cell_type": "code",
   "execution_count": null,
   "id": "25edccec",
   "metadata": {},
   "outputs": [],
   "source": [
    "mesher.verify_stencil_geometry()"
   ]
  },
  {
   "cell_type": "code",
   "execution_count": null,
   "id": "b45676e3",
   "metadata": {},
   "outputs": [],
   "source": [
    "xy = np.asarray(mesher.points)\n",
    "x = xy[:,0]\n",
    "y = xy[:,1]\n",
    "tri = np.asarray(mesher.cells)\n",
    "\n",
    "# Find the node at (0, 0)\n",
    "corner_node = np.where((mesher.points[:, 0] == 0) & (mesher.points[:, 1] == 0))[0][0]\n",
    "corner_coords = mesher.points[corner_node]\n",
    "# Find all nodes with both coordinates greater than corner_coords\n",
    "candidates = np.where((mesher.points[:, 0] > corner_coords[0]) & (mesher.points[:, 1] > corner_coords[1]))[0]\n",
    "if len(candidates) > 0:\n",
    "    # Find the candidate with minimal distance to (0,0)\n",
    "    dists = np.linalg.norm(mesher.points[candidates] - corner_coords, axis=1)\n",
    "    diagonal_node = candidates[np.argmin(dists)]\n",
    "    print(f\"Diagonal node index: {diagonal_node}, coordinates: {mesher.points[diagonal_node]}\")\n",
    "else:\n",
    "    print(\"No diagonal node found.\")\n",
    "    diagonal_node = None\n",
    "\n",
    "if diagonal_node is not None:\n",
    "    # Find all cells that include the diagonal node\n",
    "    cells_on_diagonal_node = [i for i, cell in enumerate(mesher.cells) if diagonal_node in cell]\n",
    "    print(f\"Cell indices on diagonal node {diagonal_node}: {cells_on_diagonal_node}\")\n",
    "else:\n",
    "    cells_on_diagonal_node = []\n",
    "\n",
    "for cell_index in cells_on_diagonal_node:\n",
    "    face_centers = mesher.face_centers[mesher.cell_face_indices[cell_index]]\n",
    "    normals = mesher.face_normals[mesher.cell_face_indices[cell_index]]\n",
    "    for i, (fc, nrm, dist) in enumerate(zip(face_centers, normals, mesher.face_cell_center_distances[mesher.cell_face_indices[cell_index]])):\n",
    "        # Now, normal always points outward from the cell\n",
    "        pt_plus = fc + nrm * dist[1]  # outward from cell center to face\n",
    "        pt_minus = fc - nrm * dist[0] # inward toward cell center\n",
    "        print(f\"Face {i}: Center={fc}, Normal={nrm}, Distances={dist}, Point Plus={pt_plus}, Point Minus={pt_minus}\")\n",
    "        plt.plot([pt_plus[0]], [pt_plus[1]], marker='s', color='orange', markersize=6, label='Outward Normal' if i == 0 else \"\")\n",
    "        plt.plot([pt_minus[0]], [pt_minus[1]], marker='s', color='purple', markersize=6, label='Inward Normal' if i == 0 else \"\")\n",
    "\n",
    "    plt.triplot(x, y, tri[cell_index:cell_index + 1], color=\"g\")\n",
    "    plt.plot(mesher.cell_centers[cell_index, 0], mesher.cell_centers[cell_index, 1], marker='o', color='red', markersize=5, label='Cell Center')\n",
    "    plt.plot(face_centers[:, 0], face_centers[:, 1], marker='x', color='green', markersize=5, label='Face Center', linestyle='None')\n",
    "    plt.quiver(face_centers[:, 0], face_centers[:, 1], normals[:, 0], normals[:, 1], color='blue', angles='xy', scale_units='xy', scale=200, label='Face Normals')\n",
    "plt.axis('equal')\n",
    "plt.axis([-.01, .02, -.01, .02])\n",
    "plt.show()"
   ]
  },
  {
   "cell_type": "code",
   "execution_count": null,
   "id": "ab433523",
   "metadata": {},
   "outputs": [],
   "source": [
    "# Given physical parameters\n",
    "Re = 100            # Reynolds number\n",
    "nu = 0.1     # physical kinematic viscosity\n",
    "L = 100             # domain length (physical units)\n",
    "dx = 1           # spatial step (physical units)\n",
    "dt = .25            # time step (physical units)\n",
    "\n",
    "# Speed of sound squared for D2Q9 lattice\n",
    "c_s_sq = 1.0 / 3.0\n",
    "\n",
    "# Convert to lattice units\n",
    "U_lattice = Re * nu / L\n",
    "\n",
    "# Compute relaxation time tau\n",
    "Tau = nu / c_s_sq + 0.5\n",
    "\n",
    "# Print results\n",
    "print(f\"Lid velocity (lattice units): {U_lattice:.5f}\")\n",
    "print(f\"Relaxation time tau: {Tau:.5f}\")\n",
    "U_lid = U_lattice\n",
    "dynamics = D2Q9(tau=Tau,delta_t = dt)"
   ]
  },
  {
   "cell_type": "code",
   "execution_count": null,
   "id": "884049be",
   "metadata": {},
   "outputs": [],
   "source": [
    "cells,faces,nodes = mesher.to_env(dynamics,flux_method='lax_wendroff')\n",
    "env = Environment(cells,faces,nodes)\n",
    "env.init()"
   ]
  },
  {
   "cell_type": "code",
   "execution_count": null,
   "id": "24f03372",
   "metadata": {},
   "outputs": [],
   "source": [
    "for i in tqdm(range(100000)):\n",
    "    env = env.step()"
   ]
  },
  {
   "cell_type": "code",
   "execution_count": null,
   "id": "5b646693",
   "metadata": {},
   "outputs": [],
   "source": [
    "env = env.step()"
   ]
  },
  {
   "cell_type": "code",
   "execution_count": null,
   "id": "ec6ed356",
   "metadata": {},
   "outputs": [],
   "source": [
    "xy = np.array(mesher.cell_centers)\n",
    "x = xy[:,0]\n",
    "y = xy[:,1]\n",
    "vel = env.cells.vel \n",
    "mag = np.sqrt(np.sum(vel**2,axis=-1))\n",
    "plt.quiver(x,y,vel[:,0],vel[:,1],mag,scale=1)\n",
    "xy = np.asarray(mesher.points)\n",
    "x = xy[:,0]\n",
    "y = xy[:,1]\n",
    "tri = np.asarray(mesher.cells)\n",
    "plt.triplot(x,y,tri)\n",
    "plt.axis([1.9,2,1.9,2])\n",
    "plt.colorbar()\n",
    "plt.show()"
   ]
  },
  {
   "cell_type": "code",
   "execution_count": null,
   "id": "2f12543f",
   "metadata": {},
   "outputs": [],
   "source": [
    "xy = np.array(mesher.cell_centers)\n",
    "x = xy[:,0]\n",
    "y = xy[:,1]\n",
    "vel = env.cells.vel\n",
    "mag = np.sqrt(np.sum(vel**2,axis=-1))\n",
    "plt.scatter(x, y, c=mag, cmap='viridis', vmin=0, vmax=jnp.max(mag), s=1, marker='o')\n",
    "plt.gca().add_patch(plt.Circle((1.0, 1.0), 0.5, color='black', alpha=0.75, label='Circle Hole'))\n",
    "plt.axis('equal')\n",
    "plt.show()"
   ]
  },
  {
   "cell_type": "code",
   "execution_count": null,
   "id": "c8ac5426",
   "metadata": {},
   "outputs": [],
   "source": [
    "from scipy.interpolate import LinearNDInterpolator\n",
    "interp = LinearNDInterpolator(xy, vel)"
   ]
  },
  {
   "cell_type": "code",
   "execution_count": null,
   "id": "cff55f1b",
   "metadata": {},
   "outputs": [],
   "source": [
    "x = np.linspace(0, 2, 1000)\n",
    "y = np.linspace(0, 2, 1000)\n",
    "x,y = np.meshgrid(x, y)\n",
    "vel = interp(x,y)\n",
    "plt.streamplot(x, y, vel[:,:,0], vel[:,:,1],density=1)\n",
    "plt.axis('equal')\n",
    "# plt.gca().add_patch(plt.Circle((1.0, 1.0), 0.5, color='black', alpha=0.75, label='Circle Hole'))\n",
    "plt.show()"
   ]
  },
  {
   "cell_type": "code",
   "execution_count": null,
   "id": "afad5abc",
   "metadata": {},
   "outputs": [],
   "source": [
    "x = np.linspace(0, 2, 75)\n",
    "y = np.linspace(0, 2, 75)\n",
    "x,y = np.meshgrid(x, y)\n",
    "vel = interp(x,y)\n",
    "plt.quiver(x,y,vel[:,:,0],vel[:,:,1],scale=1)\n",
    "plt.axis('equal')\n",
    "# plt.gca().add_patch(plt.Circle((1.0, 1.0), 0.5, color='black', alpha=0.75, label='Circle Hole'))\n",
    "\n",
    "plt.show()"
   ]
  },
  {
   "cell_type": "code",
   "execution_count": null,
   "id": "cdcd4c87",
   "metadata": {},
   "outputs": [],
   "source": [
    "from scipy.io import loadmat\n",
    "ref_data = loadmat('../ref/ldc_Re100.mat')\n",
    "refu = ref_data['u'].T[...,jnp.newaxis]\n",
    "refv = ref_data['v'].T[...,jnp.newaxis]\n",
    "refx = ref_data['x'].squeeze()\n",
    "refy = ref_data['y'].squeeze()\n",
    "# x,y = jnp.meshgrid(x,y)\n",
    "# x = jnp.expand_dims(x.flatten(),axis=-1)\n",
    "# y = jnp.expand_dims(y.flatten(),axis=-1)\n",
    "# xy = jnp.concatenate((x,y),axis=-1)\n",
    "sol = jnp.concatenate((refu,refv),axis=-1)\n",
    "solx = sol[128,:,1]\n",
    "soly = sol[:,128,0]"
   ]
  },
  {
   "cell_type": "code",
   "execution_count": null,
   "id": "f079b697",
   "metadata": {},
   "outputs": [],
   "source": [
    "x = np.linspace(0, 2, 1000)\n",
    "y = np.linspace(0, 2, 1000)\n",
    "outx = interp(x,np.ones_like(x))[...,1]/U_lid\n",
    "outy = interp(np.ones_like(y),y)[...,0]/U_lid"
   ]
  },
  {
   "cell_type": "code",
   "execution_count": null,
   "id": "2702be9a",
   "metadata": {},
   "outputs": [],
   "source": [
    "plt.plot(refy,solx)\n",
    "plt.plot(x/2,outx,)\n",
    "plt.legend(['Reference','Simulation'])\n",
    "plt.show()"
   ]
  },
  {
   "cell_type": "code",
   "execution_count": null,
   "id": "76a6b9cd",
   "metadata": {},
   "outputs": [],
   "source": [
    "plt.plot(refy,soly)\n",
    "plt.plot(y/2,outy,)\n",
    "plt.legend(['Reference','Simulation'])\n",
    "plt.show()"
   ]
  },
  {
   "cell_type": "markdown",
   "id": "2a471a26",
   "metadata": {},
   "source": [
    "# Tri mesh test\n"
   ]
  },
  {
   "cell_type": "code",
   "execution_count": null,
   "id": "9248b06b",
   "metadata": {},
   "outputs": [],
   "source": [
    "from scipy.io import loadmat\n",
    "data = loadmat(\"IRTmesh.mat\")"
   ]
  },
  {
   "cell_type": "code",
   "execution_count": null,
   "id": "591c194f",
   "metadata": {},
   "outputs": [],
   "source": [
    "mesher = Mesher()\n",
    "mesher.points = np.array([data[\"NODE\"][0,i][2][0][:,0] for i in range(data[\"NODE\"].shape[1])], dtype=np.float64)\n",
    "mesher.cells = np.array([[data[\"CELL\"][0,i][j][0][0][0] for j in range(6,9)] for i in range(data[\"CELL\"].shape[1])],dtype=np.int32)-1\n",
    "mesher.faces = np.array([[data[\"FACE\"][0,i][j][0][0][0] for j in range(7,9)] for i in range(data[\"FACE\"].shape[1])],dtype=np.int32)-1\n",
    "mesher.point_markers = np.zeros_like(mesher.points[:,0])\n",
    "\n",
    "mesher.enforce_ccw()\n",
    "\n",
    "print(mesher.points.shape, mesher.cells.shape, mesher.faces.shape, mesher.point_markers.shape)\n",
    "\n",
    "mesher.calc_mesh_properties()"
   ]
  },
  {
   "cell_type": "code",
   "execution_count": null,
   "id": "355860f0",
   "metadata": {},
   "outputs": [],
   "source": [
    "mesher.verify_stencil_geometry()"
   ]
  },
  {
   "cell_type": "code",
   "execution_count": null,
   "id": "c865436a",
   "metadata": {},
   "outputs": [],
   "source": [
    "# Given physical parameters\n",
    "Re = 100            # Reynolds number\n",
    "nu = 0.1     # physical kinematic viscosity\n",
    "L = 100             # domain length (physical units)\n",
    "dx = 1           # spatial step (physical units)\n",
    "dt = 0.1            # time step (physical units)\n",
    "\n",
    "# Speed of sound squared for D2Q9 lattice\n",
    "c_s_sq = 1.0 / 3.0\n",
    "\n",
    "# Convert to lattice units\n",
    "U_lattice = Re * nu / L\n",
    "\n",
    "# Compute relaxation time tau\n",
    "Tau = nu / c_s_sq + 0.5\n",
    "\n",
    "# Print results\n",
    "print(f\"Lid velocity (lattice units): {U_lattice:.5f}\")\n",
    "print(f\"Relaxation time tau: {Tau:.5f}\")\n",
    "U_lid = U_lattice\n",
    "dynamics = D2Q9(tau=Tau,delta_t = dt)"
   ]
  },
  {
   "cell_type": "code",
   "execution_count": null,
   "id": "1e775a9f",
   "metadata": {},
   "outputs": [],
   "source": [
    "xy = np.asarray(mesher.points)\n",
    "x = xy[:,0]\n",
    "y = xy[:,1]\n",
    "tri = np.asarray(mesher.cells)\n",
    "# Find the diagonal face attached to corner node 0\n",
    "corner_node = 0\n",
    "# Find all faces that include node 0\n",
    "faces_with_node0 = [i for i, face in enumerate(mesher.faces) if corner_node in face]\n",
    "# For each such face, check if it is a diagonal (not an edge of the box)\n",
    "# Here, since the box is axis-aligned, diagonal faces will not have both nodes as box corners\n",
    "# We'll just pick the first face for demonstration\n",
    "if faces_with_node0:\n",
    "    face_idx = faces_with_node0[0]\n",
    "    face_nodes = mesher.faces[face_idx]\n",
    "    # The other node attached to the face (not node 0)\n",
    "    other_node = face_nodes[0] if face_nodes[1] == corner_node else face_nodes[1]\n",
    "    print(f\"Diagonal face index: {face_idx}, nodes: {face_nodes}, other node: {other_node}\")\n",
    "\n",
    "    # Find all cell indices that include this other node\n",
    "    cells_on_other_node = [i for i, cell in enumerate(mesher.cells) if other_node in cell]\n",
    "    print(f\"Cell indices on node {other_node}: {cells_on_other_node}\")\n",
    "else:\n",
    "    print(\"No face found attached to node 0.\")\n",
    "for cell_index in cells_on_other_node:\n",
    "    face_centers = mesher.face_centers[mesher.cell_face_indices[cell_index]]\n",
    "    normals = mesher.face_normals[mesher.cell_face_indices[cell_index]] \n",
    "\n",
    "    for i, (fc, nrm, dist) in enumerate(zip(face_centers, normals, mesher.face_cell_center_distances[mesher.cell_face_indices[cell_index]])):\n",
    "        # Point along the normal direction\n",
    "        pt_plus = fc + nrm * dist[1]\n",
    "        # Point in the opposite direction\n",
    "        pt_minus = fc - nrm * dist[0]\n",
    "        print(f\"Face {i}: Center={fc}, Normal={nrm}, Distances={dist}, Point Plus={pt_plus}, Point Minus={pt_minus}\")\n",
    "        plt.plot([pt_plus[0]], [pt_plus[1]], marker='s', color='orange', markersize=6, label='Along Normal' if i == 0 else \"\")\n",
    "        plt.plot([pt_minus[0]], [pt_minus[1]], marker='s', color='purple', markersize=6, label='Opposite Normal' if i == 0 else \"\")\n",
    "\n",
    "    plt.triplot(x,y,tri[cell_index:cell_index +1],color=\"g\")\n",
    "    plt.plot(mesher.cell_centers[cell_index,0],mesher.cell_centers[cell_index,1], marker='o', color='red', markersize=5, label='Cell Center')\n",
    "    plt.plot(face_centers[:,0], face_centers[:,1], marker='x', color='green', markersize=5, label='Face Center',linestyle='None')\n",
    "    #normals = normals*mesher.cell_face_normal_signs[cell_index,:,jnp.newaxis]\n",
    "    plt.quiver(face_centers[:,0], face_centers[:,1],normals[:,0], normals[:,1], color='blue', angles='xy', scale_units='xy', scale=200, label='Face Normals')\n",
    "plt.axis('equal')\n",
    "plt.axis([-.01, .02, -.01, .02])\n",
    "#plt.axis([-1,-.9,-1,-.9])\n",
    "plt.show()"
   ]
  },
  {
   "cell_type": "code",
   "execution_count": null,
   "id": "b1214ebf",
   "metadata": {},
   "outputs": [],
   "source": [
    "points = mesher.points[mesher.cells[0]]\n",
    "print(points)\n",
    "plt.plot(points[:,0], points[:,1], marker='o', color='red', markersize=5, label='Cell Points')\n",
    "print(mesher.points[mesher.faces[mesher.cell_face_indices[0,2]]])"
   ]
  },
  {
   "cell_type": "code",
   "execution_count": null,
   "id": "0b504350",
   "metadata": {},
   "outputs": [],
   "source": [
    "cells,faces,nodes = mesher.to_env(dynamics,flux_method=\"lax_wendroff\")\n",
    "env = Environment(cells,faces,nodes)\n",
    "env.init()"
   ]
  },
  {
   "cell_type": "code",
   "execution_count": null,
   "id": "98fad62f",
   "metadata": {},
   "outputs": [],
   "source": [
    "for i in tqdm(range(100000)):\n",
    "    env = env.step()"
   ]
  },
  {
   "cell_type": "code",
   "execution_count": null,
   "id": "5821db93",
   "metadata": {},
   "outputs": [],
   "source": [
    "env = env.step()"
   ]
  },
  {
   "cell_type": "code",
   "execution_count": null,
   "id": "8860c305",
   "metadata": {},
   "outputs": [],
   "source": [
    "xy = np.array([data[\"CELL\"][0,i][4][0][:,0] for i in range(data[\"CELL\"].size)])\n",
    "x = xy[:,0]\n",
    "y = xy[:,1]\n",
    "vel = env.cells.vel \n",
    "mag = np.sqrt(np.sum(vel**2,axis=-1))\n",
    "plt.quiver(x,y,vel[:,0],vel[:,1],mag,scale=1)\n",
    "xy = np.asarray([data[\"NODE\"][0,i][2,0][:,0] for i in range(data[\"NODE\"].size)])\n",
    "x = xy[:,0]\n",
    "y = xy[:,1]\n",
    "tri = np.asarray([data[\"CELL\"][0,i][6:9][:,0] for i in range(data[\"CELL\"].size)])-1\n",
    "plt.triplot(x,y,tri)\n",
    "plt.axis([1.9,2,1.9,2])\n",
    "plt.colorbar()\n",
    "plt.show()"
   ]
  },
  {
   "cell_type": "code",
   "execution_count": null,
   "id": "05653cbc",
   "metadata": {},
   "outputs": [],
   "source": [
    "xy = np.array([data[\"CELL\"][0,i][4][0][:,0] for i in range(data[\"CELL\"].size)])\n",
    "x = xy[:,0]\n",
    "y = xy[:,1]\n",
    "vel = env.cells.vel\n",
    "mag = np.sqrt(np.sum(vel**2,axis=-1))\n",
    "plt.scatter(x,y,c=mag,cmap='viridis',s=.5)\n",
    "plt.axis('equal')\n",
    "plt.colorbar()\n",
    "plt.show()"
   ]
  },
  {
   "cell_type": "code",
   "execution_count": null,
   "id": "cb543bd4",
   "metadata": {},
   "outputs": [],
   "source": []
  }
 ],
 "metadata": {
  "kernelspec": {
   "display_name": "fvdbm",
   "language": "python",
   "name": "python3"
  },
  "language_info": {
   "codemirror_mode": {
    "name": "ipython",
    "version": 3
   },
   "file_extension": ".py",
   "mimetype": "text/x-python",
   "name": "python",
   "nbconvert_exporter": "python",
   "pygments_lexer": "ipython3",
   "version": "3.12.4"
  }
 },
 "nbformat": 4,
 "nbformat_minor": 5
}
