{
 "cells": [
  {
   "cell_type": "markdown",
   "id": "d40f850a",
   "metadata": {},
   "source": [
    "# Cell Centered Stencil using unstructured LDC"
   ]
  },
  {
   "cell_type": "code",
   "execution_count": null,
   "id": "bb37c384",
   "metadata": {},
   "outputs": [],
   "source": [
    "from meshpy import triangle, geometry\n",
    "import numpy as np\n",
    "import matplotlib.pyplot as plt\n",
    "import sys\n",
    "sys.path.append('..')\n",
    "from src.mesher import *\n",
    "from src.environment import *\n",
    "from src.dynamics import *\n",
    "from src.refiner import MeshRefiner\n",
    "from tqdm import tqdm"
   ]
  },
  {
   "cell_type": "markdown",
   "id": "7a071012",
   "metadata": {},
   "source": [
    "## Building Geometry"
   ]
  },
  {
   "cell_type": "code",
   "execution_count": null,
   "id": "dd25b7e1",
   "metadata": {},
   "outputs": [],
   "source": [
    "builder = geometry.GeometryBuilder()"
   ]
  },
  {
   "cell_type": "markdown",
   "id": "0d009253",
   "metadata": {},
   "source": [
    "Add Circle"
   ]
  },
  {
   "cell_type": "code",
   "execution_count": null,
   "id": "2fed4f92",
   "metadata": {},
   "outputs": [],
   "source": [
    "# points,facets,_,facet_markers = geometry.make_circle(.5,(0.0,0.0),marker = 1)\n",
    "# builder.add_geometry(points,facets,facet_markers=facet_markers)"
   ]
  },
  {
   "cell_type": "markdown",
   "id": "fd625764",
   "metadata": {},
   "source": [
    "Add Box"
   ]
  },
  {
   "cell_type": "code",
   "execution_count": null,
   "id": "d3d06e24",
   "metadata": {},
   "outputs": [],
   "source": [
    "points,facets,_,_ = geometry.make_box((0, 0), (2.0, 2.0))#,subdivisions=(200, 200))\n",
    "builder.add_geometry(points,facets, facet_markers=[1,1,2,1])"
   ]
  },
  {
   "cell_type": "markdown",
   "id": "982b4568",
   "metadata": {},
   "source": [
    "## Setting Mesh Info"
   ]
  },
  {
   "cell_type": "code",
   "execution_count": null,
   "id": "1ea51bba",
   "metadata": {},
   "outputs": [],
   "source": [
    "info = triangle.MeshInfo()\n",
    "builder.set(info)\n",
    "#info.set_holes([(0.0, 0.0)]) # Sets center circle as a hole"
   ]
  },
  {
   "cell_type": "code",
   "execution_count": null,
   "id": "69cf2f5c",
   "metadata": {},
   "outputs": [],
   "source": [
    "for facet, marker in zip(builder.facets, builder.facet_markers):\n",
    "    match marker:\n",
    "        case 1:\n",
    "            color = 'blue'\n",
    "        case 2:\n",
    "            color = 'green'\n",
    "        case 3:\n",
    "            color = 'orange'\n",
    "        case 4:\n",
    "            color = 'purple'\n",
    "    plt.plot(np.asarray(builder.points)[facet, 0], np.asarray(builder.points)[facet, 1], color=color, linewidth=0.5)\n",
    "    plt.text(np.mean(np.asarray(builder.points)[facet, 0]), np.mean(np.asarray(builder.points)[facet, 1]), str(marker), fontsize=8, ha='center')\n",
    "plt.show()"
   ]
  },
  {
   "cell_type": "markdown",
   "id": "8dc458a7",
   "metadata": {},
   "source": [
    "Meshing"
   ]
  },
  {
   "cell_type": "code",
   "execution_count": null,
   "id": "6f58bab8",
   "metadata": {},
   "outputs": [],
   "source": [
    "mesh = triangle.build(info,min_angle=33.0,\n",
    "                      max_volume=.0001,\n",
    "                      generate_faces=True,\n",
    "                      generate_neighbor_lists=True,\n",
    "                      attributes=True,\n",
    "                      volume_constraints=True)"
   ]
  },
  {
   "cell_type": "code",
   "execution_count": null,
   "id": "73bea6fc",
   "metadata": {},
   "outputs": [],
   "source": [
    "np.array(mesh.elements).shape"
   ]
  },
  {
   "cell_type": "code",
   "execution_count": null,
   "id": "65d383dd",
   "metadata": {},
   "outputs": [],
   "source": [
    "improver = MeshRefiner(mesh)\n",
    "improver.show_mesh_quality()\n",
    "mesh = improver.improve(aspect_thresh=3.0,\n",
    "                        skew_thresh=30.0,\n",
    "                        max_volume=0.0001,\n",
    "                        move_fraction=.25,\n",
    "                        max_iter=40)\n",
    "improver.show_mesh_quality()"
   ]
  },
  {
   "cell_type": "markdown",
   "id": "8cdf3379",
   "metadata": {},
   "source": [
    "## Plotting"
   ]
  },
  {
   "cell_type": "code",
   "execution_count": null,
   "id": "1bfeda8a",
   "metadata": {},
   "outputs": [],
   "source": [
    "mesh_points = np.array(mesh.points)\n",
    "mesh_tris = np.array(mesh.elements)\n",
    "mesh_attr = np.array(mesh.point_markers)\n",
    "\n",
    "import matplotlib.pyplot as plt\n",
    "\n",
    "plt.triplot(mesh_points[:, 0], mesh_points[:, 1], mesh_tris)\n",
    "plt.xlabel(\"x\")\n",
    "plt.ylabel(\"y\")\n",
    "#\n",
    "n = np.size(mesh_attr)\n",
    "inner_nodes = [i for i in range(n) if mesh_attr[i] == 1]\n",
    "outer_nodes = [i for i in range(n) if mesh_attr[i] == 3]\n",
    "plt.plot(mesh_points[inner_nodes, 0], mesh_points[inner_nodes, 1], \"ro\")\n",
    "plt.plot(mesh_points[outer_nodes, 0], mesh_points[outer_nodes, 1], \"go\")\n",
    "plt.axis(\"equal\")\n",
    "plt.axis([0,.2,0,.2])\n",
    "plt.show()"
   ]
  },
  {
   "cell_type": "code",
   "execution_count": null,
   "id": "e2413973",
   "metadata": {},
   "outputs": [],
   "source": [
    "import sys\n",
    "sys.path.append('..')\n",
    "from src.mesher import *\n",
    "from src.environment import *\n",
    "from src.dynamics import *\n",
    "mesher = Mesher()\n",
    "mesher.import_meshpy(mesh)"
   ]
  },
  {
   "cell_type": "code",
   "execution_count": null,
   "id": "f31a0515",
   "metadata": {},
   "outputs": [],
   "source": [
    "mesher.calc_mesh_properties()"
   ]
  },
  {
   "cell_type": "code",
   "execution_count": null,
   "id": "3258389d",
   "metadata": {},
   "outputs": [],
   "source": [
    "mesher.verify_stencil_geometry()"
   ]
  },
  {
   "cell_type": "code",
   "execution_count": null,
   "id": "96405575",
   "metadata": {},
   "outputs": [],
   "source": [
    "xy = np.asarray(mesher.points)\n",
    "x = xy[:,0]\n",
    "y = xy[:,1]\n",
    "tri = np.asarray(mesher.cells)\n",
    "\n",
    "# Find the node at (0, 0)\n",
    "corner_node = np.where((mesher.points[:, 0] == 0) & (mesher.points[:, 1] == 0))[0][0]\n",
    "corner_coords = mesher.points[corner_node]\n",
    "# Find all nodes with both coordinates greater than corner_coords\n",
    "candidates = np.where((mesher.points[:, 0] > corner_coords[0]) & (mesher.points[:, 1] > corner_coords[1]))[0]\n",
    "if len(candidates) > 0:\n",
    "    # Find the candidate with minimal distance to (0,0)\n",
    "    dists = np.linalg.norm(mesher.points[candidates] - corner_coords, axis=1)\n",
    "    diagonal_node = candidates[np.argmin(dists)]\n",
    "    print(f\"Diagonal node index: {diagonal_node}, coordinates: {mesher.points[diagonal_node]}\")\n",
    "else:\n",
    "    print(\"No diagonal node found.\")\n",
    "    diagonal_node = None\n",
    "\n",
    "if diagonal_node is not None:\n",
    "    # Find all cells that include the diagonal node\n",
    "    cells_on_diagonal_node = [i for i, cell in enumerate(mesher.cells) if diagonal_node in cell]\n",
    "    print(f\"Cell indices on diagonal node {diagonal_node}: {cells_on_diagonal_node}\")\n",
    "else:\n",
    "    cells_on_diagonal_node = []\n",
    "\n",
    "for cell_index in cells_on_diagonal_node:\n",
    "    face_indices = mesher.cell_face_indices[cell_index]\n",
    "    face_centers = mesher.face_centers[face_indices]\n",
    "    face_normals = mesher.face_normals[face_indices]\n",
    "    stencil_normals = mesher.stencil_norms[face_indices]\n",
    "    for i, (fc, nrm, snrm, dist) in enumerate(zip(face_centers, face_normals, stencil_normals, mesher.cc_stencil_dist[face_indices])):\n",
    "        # Plot points along the stencil normal direction\n",
    "        pt_plus = fc + snrm * dist[1]  # outward from cell center to face (stencil direction)\n",
    "        pt_minus = fc - snrm * dist[0] # inward toward cell center (stencil direction)\n",
    "        print(f\"Face {i}: Center={fc}, Face Normal={nrm}, Stencil Normal={snrm}, Distances={dist}, Point Plus={pt_plus}, Point Minus={pt_minus}\")\n",
    "        plt.plot([pt_plus[0]], [pt_plus[1]], marker='s', color='orange', markersize=6, label='Outward Stencil' if i == 0 else \"\")\n",
    "        plt.plot([pt_minus[0]], [pt_minus[1]], marker='s', color='purple', markersize=6, label='Inward Stencil' if i == 0 else \"\")\n",
    "\n",
    "    plt.triplot(x, y, tri[cell_index:cell_index + 1], color=\"g\")\n",
    "    plt.plot(mesher.cell_centers[cell_index, 0], mesher.cell_centers[cell_index, 1], marker='o', color='red', markersize=5, label='Cell Center')\n",
    "    plt.plot(face_centers[:, 0], face_centers[:, 1], marker='x', color='green', markersize=5, label='Face Center', linestyle='None')\n",
    "    # Plot both face normals (blue) and stencil normals (magenta)\n",
    "    plt.quiver(face_centers[:, 0], face_centers[:, 1], face_normals[:, 0], face_normals[:, 1], color='blue', angles='xy', scale_units='xy', scale=200, label='Face Normals')\n",
    "    plt.quiver(face_centers[:, 0], face_centers[:, 1], stencil_normals[:, 0], stencil_normals[:, 1], color='magenta', angles='xy', scale_units='xy', scale=200, label='Stencil Normals')\n",
    "plt.axis('equal')\n",
    "plt.axis([-.01, .02, -.01, .02])\n",
    "plt.show()"
   ]
  },
  {
   "cell_type": "code",
   "execution_count": null,
   "id": "71f59853",
   "metadata": {},
   "outputs": [],
   "source": [
    "# Given physical parameters\n",
    "Re = 100            # Reynolds number\n",
    "nu = 0.1     # physical kinematic viscosity\n",
    "L = 100             # domain length (physical units)\n",
    "dx = 1           # spatial step (physical units)\n",
    "dt = .1            # time step (physical units)\n",
    "\n",
    "# Speed of sound squared for D2Q9 lattice\n",
    "c_s_sq = 1.0 / 3.0\n",
    "\n",
    "# Convert to lattice units\n",
    "U_lattice = Re * nu / L\n",
    "\n",
    "# Compute relaxation time tau\n",
    "Tau = nu / c_s_sq + 0.5\n",
    "\n",
    "# Print results\n",
    "print(f\"Lid velocity (lattice units): {U_lattice:.5f}\")\n",
    "print(f\"Relaxation time tau: {Tau:.5f}\")\n",
    "U_lid = U_lattice\n",
    "dynamics = D2Q9(tau=Tau,delta_t = dt)"
   ]
  },
  {
   "cell_type": "code",
   "execution_count": null,
   "id": "6f2a9feb",
   "metadata": {},
   "outputs": [],
   "source": [
    "cells,faces,nodes = mesher.to_env(dynamics,flux_method=\"cc_alt_upwind\")\n",
    "nodes = mesher.set_vel_node(nodes, marker=1, velocity=jnp.array([0.0, 0.0]))\n",
    "nodes = mesher.set_vel_node(nodes,marker=2, velocity=jnp.array([U_lid, 0.0]))"
   ]
  },
  {
   "cell_type": "code",
   "execution_count": null,
   "id": "defb0b3c",
   "metadata": {},
   "outputs": [],
   "source": [
    "env = Environment(cells,faces,nodes)\n",
    "env.init()"
   ]
  },
  {
   "cell_type": "code",
   "execution_count": null,
   "id": "e4158a2c",
   "metadata": {},
   "outputs": [],
   "source": [
    "for i in tqdm(range(10)):\n",
    "    env = env.step()"
   ]
  },
  {
   "cell_type": "code",
   "execution_count": null,
   "id": "2d766f2e",
   "metadata": {},
   "outputs": [],
   "source": [
    "env = env.step()"
   ]
  },
  {
   "cell_type": "code",
   "execution_count": null,
   "id": "7fc51cd8",
   "metadata": {},
   "outputs": [],
   "source": [
    "xy = np.array(mesher.cell_centers)\n",
    "x = xy[:,0]\n",
    "y = xy[:,1]\n",
    "vel = env.cells.vel \n",
    "mag = np.sqrt(np.sum(vel**2,axis=-1))\n",
    "plt.quiver(x,y,vel[:,0],vel[:,1],mag,scale=1)\n",
    "xy = np.asarray(mesher.points)\n",
    "x = xy[:,0]\n",
    "y = xy[:,1]\n",
    "tri = np.asarray(mesher.cells)\n",
    "plt.triplot(x,y,tri)\n",
    "plt.axis([1.9,2,1.9,2])\n",
    "#plt.axis([-1,-.9,-1,-.9])\n",
    "plt.colorbar()\n",
    "plt.show()"
   ]
  },
  {
   "cell_type": "code",
   "execution_count": null,
   "id": "e7071784",
   "metadata": {},
   "outputs": [],
   "source": [
    "xy = np.array(mesher.cell_centers)\n",
    "x = xy[:,0]\n",
    "y = xy[:,1]\n",
    "vel = env.cells.vel\n",
    "mag = np.sqrt(np.sum(vel**2,axis=-1))\n",
    "plt.scatter(x, y, c=mag, cmap='viridis', vmin=0, vmax=jnp.max(mag), s=1, marker='o')\n",
    "plt.axis('equal')\n",
    "plt.show()"
   ]
  },
  {
   "cell_type": "code",
   "execution_count": null,
   "id": "7838dba1",
   "metadata": {},
   "outputs": [],
   "source": [
    "from scipy.interpolate import LinearNDInterpolator\n",
    "interp = LinearNDInterpolator(xy, vel)"
   ]
  },
  {
   "cell_type": "code",
   "execution_count": null,
   "id": "1c8dbcf1",
   "metadata": {},
   "outputs": [],
   "source": [
    "x = np.linspace(0, 2, 1000)\n",
    "y = np.linspace(0, 2, 1000)\n",
    "x,y = np.meshgrid(x, y)\n",
    "vel = interp(x,y)\n",
    "plt.streamplot(x, y, vel[:,:,0], vel[:,:,1],density=1)\n",
    "plt.axis('equal')\n",
    "plt.show()"
   ]
  },
  {
   "cell_type": "code",
   "execution_count": null,
   "id": "c500e93a",
   "metadata": {},
   "outputs": [],
   "source": [
    "x = np.linspace(0, 2, 75)\n",
    "y = np.linspace(0, 2, 75)\n",
    "x,y = np.meshgrid(x, y)\n",
    "vel = interp(x,y)\n",
    "plt.quiver(x,y,vel[:,:,0],vel[:,:,1],scale=1)\n",
    "plt.axis('equal')\n",
    "plt.show()"
   ]
  },
  {
   "cell_type": "code",
   "execution_count": null,
   "id": "cfb11d41",
   "metadata": {},
   "outputs": [],
   "source": [
    "from scipy.io import loadmat\n",
    "ref_data = loadmat('../ref/ldc_Re100.mat')\n",
    "refu = ref_data['u'].T[...,jnp.newaxis]\n",
    "refv = ref_data['v'].T[...,jnp.newaxis]\n",
    "refx = ref_data['x'].squeeze()\n",
    "refy = ref_data['y'].squeeze()\n",
    "# x,y = jnp.meshgrid(x,y)\n",
    "# x = jnp.expand_dims(x.flatten(),axis=-1)\n",
    "# y = jnp.expand_dims(y.flatten(),axis=-1)\n",
    "# xy = jnp.concatenate((x,y),axis=-1)\n",
    "sol = jnp.concatenate((refu,refv),axis=-1)\n",
    "solx = sol[128,:,1]\n",
    "soly = sol[:,128,0]"
   ]
  },
  {
   "cell_type": "code",
   "execution_count": null,
   "id": "0573818a",
   "metadata": {},
   "outputs": [],
   "source": [
    "x = np.linspace(0, 2, 1000)\n",
    "y = np.linspace(0, 2, 1000)\n",
    "outx = interp(x,np.ones_like(x))[...,1]/U_lid\n",
    "outy = interp(np.ones_like(y),y)[...,0]/U_lid"
   ]
  },
  {
   "cell_type": "code",
   "execution_count": null,
   "id": "75e533b3",
   "metadata": {},
   "outputs": [],
   "source": [
    "plt.plot(refy,solx)\n",
    "plt.plot(x/2,outx)\n",
    "plt.legend(['Reference','Simulation'])\n",
    "plt.show()"
   ]
  },
  {
   "cell_type": "code",
   "execution_count": null,
   "id": "d3130fd6",
   "metadata": {},
   "outputs": [],
   "source": [
    "plt.plot(refy,soly)\n",
    "plt.plot(y/2,outy)\n",
    "plt.legend(['Reference','Simulation'])\n",
    "plt.show()"
   ]
  },
  {
   "cell_type": "markdown",
   "id": "6f047c2b",
   "metadata": {},
   "source": [
    "# Tri mesh test\n"
   ]
  },
  {
   "cell_type": "code",
   "execution_count": null,
   "id": "5745dbc7",
   "metadata": {},
   "outputs": [],
   "source": [
    "from scipy.io import loadmat\n",
    "data = loadmat(\"IRTmesh.mat\")"
   ]
  },
  {
   "cell_type": "code",
   "execution_count": null,
   "id": "0dc47d46",
   "metadata": {},
   "outputs": [],
   "source": [
    "mesher = Mesher()\n",
    "mesher.points = np.array([data[\"NODE\"][0,i][2][0][:,0] for i in range(data[\"NODE\"].shape[1])], dtype=np.float64)\n",
    "mesher.cells = np.array([[data[\"CELL\"][0,i][j][0][0][0] for j in range(6,9)] for i in range(data[\"CELL\"].shape[1])],dtype=np.int32)-1\n",
    "mesher.faces = np.array([[data[\"FACE\"][0,i][j][0][0][0] for j in range(7,9)] for i in range(data[\"FACE\"].shape[1])],dtype=np.int32)-1\n",
    "mesher.point_markers = np.zeros_like(mesher.points[:,0])\n",
    "\n",
    "mesher.points[19800]=np.asarray([1.992,1.992])\n",
    "\n",
    "mesher.enforce_ccw()\n",
    "\n",
    "print(mesher.points.shape, mesher.cells.shape, mesher.faces.shape, mesher.point_markers.shape)\n",
    "\n",
    "mesher.calc_mesh_properties()"
   ]
  },
  {
   "cell_type": "code",
   "execution_count": null,
   "id": "075c2a90",
   "metadata": {},
   "outputs": [],
   "source": [
    "mesher.points[:,1]"
   ]
  },
  {
   "cell_type": "code",
   "execution_count": null,
   "id": "87d8cc66",
   "metadata": {},
   "outputs": [],
   "source": [
    "mesher.points[:,0] == jnp.asarray(0.02)"
   ]
  },
  {
   "cell_type": "code",
   "execution_count": null,
   "id": "e164d1bd",
   "metadata": {},
   "outputs": [],
   "source": [
    "for i in jnp.where(mesher.points[:,1] == jnp.asarray(1.99))[0]:\n",
    "    for j in jnp.where(mesher.points[:,0] == jnp.asarray(1.99))[0]:\n",
    "        if i==j:\n",
    "            print(f\"i={i}, j={j}, point={mesher.points[i]}\")"
   ]
  },
  {
   "cell_type": "code",
   "execution_count": null,
   "id": "9837b07b",
   "metadata": {},
   "outputs": [],
   "source": [
    "mesher.points[19800].at.set([1.992,1.992])"
   ]
  },
  {
   "cell_type": "code",
   "execution_count": null,
   "id": "5fa6da86",
   "metadata": {},
   "outputs": [],
   "source": [
    "mesher.verify_stencil_geometry()"
   ]
  },
  {
   "cell_type": "code",
   "execution_count": null,
   "id": "8b6d54df",
   "metadata": {},
   "outputs": [],
   "source": [
    "# Given physical parameters\n",
    "Re = 100            # Reynolds number\n",
    "nu = 0.1     # physical kinematic viscosity\n",
    "L = 100             # domain length (physical units)\n",
    "dx = 1           # spatial step (physical units)\n",
    "dt = 0.1            # time step (physical units)\n",
    "\n",
    "# Speed of sound squared for D2Q9 lattice\n",
    "c_s_sq = 1.0 / 3.0\n",
    "\n",
    "# Convert to lattice units\n",
    "U_lattice = Re * nu / L\n",
    "\n",
    "# Compute relaxation time tau\n",
    "Tau = nu / c_s_sq + 0.5\n",
    "\n",
    "# Print results\n",
    "print(f\"Lid velocity (lattice units): {U_lattice:.5f}\")\n",
    "print(f\"Relaxation time tau: {Tau:.5f}\")\n",
    "U_lid = U_lattice\n",
    "dynamics = D2Q9(tau=Tau,delta_t = dt)"
   ]
  },
  {
   "cell_type": "code",
   "execution_count": null,
   "id": "2cd53235",
   "metadata": {},
   "outputs": [],
   "source": [
    "cells,faces,nodes = mesher.to_env(dynamics,flux_method=\"cc_lax_wendroff\")\n",
    "env = Environment(cells,faces,nodes)\n",
    "env.init()"
   ]
  },
  {
   "cell_type": "code",
   "execution_count": null,
   "id": "b2f41af7",
   "metadata": {},
   "outputs": [],
   "source": [
    "for i in tqdm(range(100000)):\n",
    "    env = env.step()"
   ]
  },
  {
   "cell_type": "code",
   "execution_count": null,
   "id": "e0bd01da",
   "metadata": {},
   "outputs": [],
   "source": [
    "env = env.step()"
   ]
  },
  {
   "cell_type": "code",
   "execution_count": null,
   "id": "33e84027",
   "metadata": {},
   "outputs": [],
   "source": [
    "env"
   ]
  },
  {
   "cell_type": "code",
   "execution_count": null,
   "id": "cf40cd87",
   "metadata": {},
   "outputs": [],
   "source": [
    "xy = np.array([data[\"CELL\"][0,i][4][0][:,0] for i in range(data[\"CELL\"].size)])\n",
    "x = xy[:,0]\n",
    "y = xy[:,1]\n",
    "vel = env.cells.vel \n",
    "mag = np.sqrt(np.sum(vel**2,axis=-1))\n",
    "plt.quiver(x,y,vel[:,0],vel[:,1],scale=1)\n",
    "plt.axis([0,.1,0,.1])\n",
    "xy = np.asarray([data[\"NODE\"][0,i][2,0][:,0] for i in range(data[\"NODE\"].size)])\n",
    "x = xy[:,0]\n",
    "y = xy[:,1]\n",
    "tri = np.asarray([data[\"CELL\"][0,i][6:9][:,0] for i in range(data[\"CELL\"].size)])-1\n",
    "plt.triplot(x,y,tri)\n",
    "plt.axis([1.9,2,1.9,2])\n",
    "plt.show()"
   ]
  },
  {
   "cell_type": "code",
   "execution_count": null,
   "id": "ceeb1613",
   "metadata": {},
   "outputs": [],
   "source": [
    "xy = np.array([data[\"CELL\"][0,i][4][0][:,0] for i in range(data[\"CELL\"].size)])\n",
    "x = xy[:,0]\n",
    "y = xy[:,1]\n",
    "vel = env.cells.vel\n",
    "mag = np.sqrt(np.sum(vel**2,axis=-1))\n",
    "plt.scatter(x,y,c=mag,cmap='viridis',vmin=0,vmax=U_lid,s=.5)\n",
    "plt.axis('equal')\n",
    "plt.show()"
   ]
  },
  {
   "cell_type": "code",
   "execution_count": null,
   "id": "c595e046",
   "metadata": {},
   "outputs": [],
   "source": []
  }
 ],
 "metadata": {
  "kernelspec": {
   "display_name": "fvdbm",
   "language": "python",
   "name": "python3"
  },
  "language_info": {
   "codemirror_mode": {
    "name": "ipython",
    "version": 3
   },
   "file_extension": ".py",
   "mimetype": "text/x-python",
   "name": "python",
   "nbconvert_exporter": "python",
   "pygments_lexer": "ipython3",
   "version": "3.12.4"
  }
 },
 "nbformat": 4,
 "nbformat_minor": 5
}
