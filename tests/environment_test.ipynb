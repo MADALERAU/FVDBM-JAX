{
 "cells": [
  {
   "cell_type": "code",
   "execution_count": 1,
   "metadata": {},
   "outputs": [],
   "source": [
    "import sys\n",
    "sys.path.append(\"..\")\n",
    "from src.environment import *\n",
    "from src.elements import *\n",
    "from src.dynamics import *\n",
    "from utils.test_utils import *\n",
    "from src.methods import *"
   ]
  },
  {
   "cell_type": "code",
   "execution_count": 2,
   "metadata": {},
   "outputs": [],
   "source": [
    "dynamics = D2Q9()\n",
    "key = Key(1234)\n",
    "Element.dynamics = dynamics\n",
    "Environment.dynamics = dynamics\n",
    "n_cells = 1000\n",
    "n_faces = 1000\n",
    "n_nodes = 1000\n",
    "cells = [Cell.pdf_init(jax.random.uniform(key(),dynamics.ones_pdf().shape),jnp.asarray([])) for i in range(n_cells)]\n",
    "faces = [Face.pdf_init(jax.random.uniform(key(),dynamics.ones_pdf().shape),jnp.asarray([]),jnp.asarray([]),jnp.asarray([])) for i in range(n_faces)]\n",
    "nodes = [Node.pdf_init(jax.random.uniform(key(),dynamics.ones_pdf().shape),jax.random.randint(key(),(),0,2),jnp.asarray([]),jnp.asarray([])) for i in range(100)]\n",
    "for node in nodes:\n",
    "    n = jax.random.randint(key(),(),2,10)\n",
    "    node.type = jnp.asarray(1)\n",
    "    node.cell_dists = jnp.abs(jax.random.normal(key(),(n,)))\n",
    "    node.cells_index = jax.random.randint(key(),(n,),0,n_cells)\n",
    "env = Environment.create(cells,faces,nodes)\n",
    "env.setMethods(Methods)"
   ]
  },
  {
   "cell_type": "code",
   "execution_count": 3,
   "metadata": {},
   "outputs": [
    {
     "data": {
      "text/plain": [
       "PyTreeDef({'cells': {'pdf': *, 'pdf_eq': *, 'rho': *, 'vel': *}, 'faces': {'flux': *, 'pdf': *, 'rho': *, 'vel': *}, 'nodes': {'Velocity': {'pdf': *, 'rho': *, 'vel': *}}})"
      ]
     },
     "execution_count": 3,
     "metadata": {},
     "output_type": "execute_result"
    }
   ],
   "source": [
    "params,config = env.init()\n",
    "jax.tree.structure(params)"
   ]
  },
  {
   "cell_type": "markdown",
   "metadata": {},
   "source": [
    "Cell Eq Test"
   ]
  },
  {
   "cell_type": "code",
   "execution_count": null,
   "metadata": {},
   "outputs": [],
   "source": [
    "jitted = jax.jit(env.methods.calc_cell_eqs)\n",
    "jitted(params)\n",
    "%timeit -n100 -r10 env.methods.calc_cell_eqs(params)\n",
    "%timeit -n100 -r10 jitted(params)"
   ]
  },
  {
   "cell_type": "markdown",
   "metadata": {},
   "source": [
    "Cell Macros Test"
   ]
  },
  {
   "cell_type": "code",
   "execution_count": null,
   "metadata": {},
   "outputs": [
    {
     "name": "stdout",
     "output_type": "stream",
     "text": [
      "1.36 ms ± 14.4 μs per loop (mean ± std. dev. of 10 runs, 100 loops each)\n",
      "119 μs ± 2.93 μs per loop (mean ± std. dev. of 10 runs, 100 loops each)\n"
     ]
    }
   ],
   "source": [
    "jitted = jax.jit(env.methods.calc_cell_macros)\n",
    "jitted(params)\n",
    "%timeit -n100 -r10 env.methods.calc_cell_macros(params)\n",
    "%timeit -n100 -r10 jitted(params)"
   ]
  },
  {
   "cell_type": "code",
   "execution_count": null,
   "metadata": {},
   "outputs": [
    {
     "name": "stdout",
     "output_type": "stream",
     "text": [
      "[0.6457553  0.06957352 0.41975212 0.9838723  0.08163345 0.3375119\n",
      " 0.3994317  0.3936324  0.7771797 ]\n",
      "[-0.01713668 -0.0027834  -0.00398572 -0.00661427 -0.00460463 -0.00065486\n",
      " -0.00154562 -0.0017673  -0.00074262]\n",
      "5.66 ms ± 699 μs per loop (mean ± std. dev. of 10 runs, 100 loops each)\n",
      "39.9 μs ± 1.74 μs per loop (mean ± std. dev. of 10 runs, 100 loops each)\n"
     ]
    }
   ],
   "source": [
    "jitted = jax.jit(env.methods.calc_node_pdfs)\n",
    "print(params[\"nodes\"][\"Velocity\"][\"pdf\"][0])\n",
    "params = jitted(params,config)\n",
    "print(params[\"nodes\"][\"Velocity\"][\"pdf\"][0])\n",
    "%timeit -n100 -r10 env.methods.calc_node_pdfs(params,config)\n",
    "%timeit -n100 -r10 jitted(params,config)"
   ]
  }
 ],
 "metadata": {
  "kernelspec": {
   "display_name": "fvdbm",
   "language": "python",
   "name": "python3"
  },
  "language_info": {
   "codemirror_mode": {
    "name": "ipython",
    "version": 3
   },
   "file_extension": ".py",
   "mimetype": "text/x-python",
   "name": "python",
   "nbconvert_exporter": "python",
   "pygments_lexer": "ipython3",
   "version": "3.12.4"
  }
 },
 "nbformat": 4,
 "nbformat_minor": 2
}
