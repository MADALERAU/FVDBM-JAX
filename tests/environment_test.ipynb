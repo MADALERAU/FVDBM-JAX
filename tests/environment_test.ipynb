{
 "cells": [
  {
   "cell_type": "code",
   "execution_count": 1,
   "metadata": {},
   "outputs": [],
   "source": [
    "import sys\n",
    "sys.path.append(\"..\")\n",
    "from src.environment import *\n",
    "from src.elements import *\n",
    "from src.dynamics import *\n",
    "from utils.test_utils import *\n",
    "from src.methods import *"
   ]
  },
  {
   "cell_type": "code",
   "execution_count": 5,
   "metadata": {},
   "outputs": [],
   "source": [
    "dynamics = D2Q9(tau =.1,delta_t = .1)\n",
    "key = Key(1234)\n",
    "Element.dynamics = dynamics\n",
    "Environment.dynamics = dynamics\n",
    "n_cells = 10\n",
    "n_faces = 10\n",
    "n_nodes = 10\n",
    "cells = [Cell.pdf_init(jax.random.uniform(key(),dynamics.ones_pdf().shape),jax.random.randint(key(),(4,),0,n_faces),jax.random.randint(key(),(4,),-1,1)) for i in range(n_cells)]\n",
    "faces = [Face.pdf_init(jax.random.uniform(key(),dynamics.ones_pdf().shape),jnp.asarray([jax.random.randint(key(),(2,),0,2),jax.random.randint(key(),(2,),0,n_nodes)]),jax.random.randint(key(),(2,),0,n_cells),jax.random.normal(key(),(2,))+.1,jax.random.normal(key(),(2,)),jax.random.normal(key(),())) for i in range(n_faces)]\n",
    "nodes = [Node.pdf_init(jax.random.uniform(key(),dynamics.ones_pdf().shape),jax.random.randint(key(),(),0,2),jnp.asarray([]),jnp.asarray([])) for i in range(100)]\n",
    "for node in nodes:\n",
    "    n = jax.random.randint(key(),(),2,10)\n",
    "    node.type = jnp.asarray([1])\n",
    "    node.cell_dists = jnp.abs(jax.random.normal(key(),(n,)))\n",
    "    node.cells_index = jax.random.randint(key(),(n,),0,n_cells)\n",
    "env = Environment.create(cells,faces,nodes)\n",
    "env.setMethods(Methods)"
   ]
  },
  {
   "cell_type": "code",
   "execution_count": 6,
   "metadata": {},
   "outputs": [
    {
     "name": "stdout",
     "output_type": "stream",
     "text": [
      "PyTreeDef({'cells': {'pdf': *, 'pdf_eq': *, 'rho': *, 'vel': *}, 'faces': {'flux': *, 'pdf': *, 'rho': *, 'vel': *}, 'nodes': {'Internal': {'pdf': *, 'rho': *, 'vel': *}, 'Pressure': {'pdf': *, 'rho': *, 'vel': *}, 'Velocity': {'pdf': *, 'rho': *, 'vel': *}}})\n",
      "PyTreeDef({'cells': {'faces_index': *, 'faces_n': *}, 'faces': {'L': *, 'n': *, 'nodes_index': *, 'stencil_cells_index': *, 'stencil_dists': *}, 'nodes': {'Internal': {'cell_dists': *, 'cells_index': *, 'type': *}, 'Pressure': {'cell_dists': *, 'cells_index': *, 'type': *}, 'Velocity': {'cell_dists': *, 'cells_index': *, 'type': *}}})\n"
     ]
    }
   ],
   "source": [
    "params,config = env.init()\n",
    "print(jax.tree.structure(params))\n",
    "print(jax.tree.structure(config))"
   ]
  },
  {
   "cell_type": "code",
   "execution_count": null,
   "metadata": {},
   "outputs": [],
   "source": [
    "jnp.where(dynamics.KSI[:,1] == 1)"
   ]
  },
  {
   "cell_type": "code",
   "execution_count": null,
   "metadata": {},
   "outputs": [],
   "source": [
    "env.methods.test_vmap(env.methods.test_vmap(params,config),config)[\"cells\"][\"pdf\"].shape"
   ]
  },
  {
   "cell_type": "markdown",
   "metadata": {},
   "source": [
    "Cell Eq Test"
   ]
  },
  {
   "cell_type": "code",
   "execution_count": null,
   "metadata": {},
   "outputs": [],
   "source": [
    "jitted = jax.jit(env.methods.calc_cell_eqs)\n",
    "jitted(params)\n",
    "%timeit -n100 -r10 env.methods.calc_cell_eqs(params)\n",
    "%timeit -n100 -r10 jitted(params)"
   ]
  },
  {
   "cell_type": "code",
   "execution_count": null,
   "metadata": {},
   "outputs": [
    {
     "name": "stdout",
     "output_type": "stream",
     "text": [
      "(10, 10, 10, 100, 9)\n"
     ]
    }
   ],
   "source": [
    "print(params[\"nodes\"][\"Velocity\"][\"pdf\"].shape)"
   ]
  },
  {
   "cell_type": "markdown",
   "metadata": {},
   "source": [
    "Cell Macros Test"
   ]
  },
  {
   "cell_type": "code",
   "execution_count": 7,
   "metadata": {},
   "outputs": [],
   "source": [
    "params = env.methods.calc_cell_macros(params,config)\n",
    "params = env.methods.calc_cell_eqs(params,config)\n",
    "params = env.methods.calc_node_pdfs(params,config)\n",
    "params = env.methods.calc_face_pdfs(params,config)\n",
    "params = env.methods.calc_cell_pdfs(params,config)"
   ]
  },
  {
   "cell_type": "code",
   "execution_count": 8,
   "metadata": {},
   "outputs": [],
   "source": [
    "params1 = env.step(params,config)"
   ]
  },
  {
   "cell_type": "code",
   "execution_count": 9,
   "metadata": {},
   "outputs": [
    {
     "name": "stdout",
     "output_type": "stream",
     "text": [
      "325 μs ± 9.53 μs per loop (mean ± std. dev. of 10 runs, 100 loops each)\n",
      "28.6 μs ± 904 ns per loop (mean ± std. dev. of 10 runs, 100 loops each)\n"
     ]
    }
   ],
   "source": [
    "jitted = jax.jit(env.methods.calc_cell_macros)\n",
    "jitted(params,config)\n",
    "%timeit -n100 -r10 env.methods.calc_cell_macros(params,config)\n",
    "%timeit -n100 -r10 jax.block_until_ready(jitted(params,config))"
   ]
  },
  {
   "cell_type": "code",
   "execution_count": 10,
   "metadata": {},
   "outputs": [
    {
     "name": "stdout",
     "output_type": "stream",
     "text": [
      "1.13 ms ± 27.1 μs per loop (mean ± std. dev. of 10 runs, 100 loops each)\n",
      "32.6 μs ± 7.28 μs per loop (mean ± std. dev. of 10 runs, 100 loops each)\n"
     ]
    }
   ],
   "source": [
    "jitted = jax.jit(env.methods.calc_cell_eqs)\n",
    "jitted(params,config)\n",
    "%timeit -n100 -r10 env.methods.calc_cell_eqs(params,config)\n",
    "%timeit -n100 -r10 jax.block_until_ready(jitted(params,config))"
   ]
  },
  {
   "cell_type": "code",
   "execution_count": 11,
   "metadata": {},
   "outputs": [
    {
     "name": "stdout",
     "output_type": "stream",
     "text": [
      "5.54 ms ± 209 μs per loop (mean ± std. dev. of 10 runs, 100 loops each)\n",
      "37.6 μs ± 1.54 μs per loop (mean ± std. dev. of 10 runs, 100 loops each)\n"
     ]
    }
   ],
   "source": [
    "jitted = jax.jit(env.methods.calc_node_pdfs)\n",
    "jitted(params,config)\n",
    "%timeit -n100 -r10 env.methods.calc_node_pdfs(params,config)\n",
    "%timeit -n100 -r10 jax.block_until_ready(jitted(params,config))"
   ]
  },
  {
   "cell_type": "code",
   "execution_count": 12,
   "metadata": {},
   "outputs": [
    {
     "name": "stdout",
     "output_type": "stream",
     "text": [
      "18.9 ms ± 592 μs per loop (mean ± std. dev. of 10 runs, 100 loops each)\n",
      "35.8 μs ± 2.41 μs per loop (mean ± std. dev. of 10 runs, 100 loops each)\n"
     ]
    }
   ],
   "source": [
    "jitted = jax.jit(env.methods.calc_face_pdfs)\n",
    "jitted(params,config)\n",
    "%timeit -n100 -r10 env.methods.calc_face_pdfs(params,config)\n",
    "%timeit -n100 -r10 jax.block_until_ready(jitted(params,config))"
   ]
  },
  {
   "cell_type": "code",
   "execution_count": 13,
   "metadata": {},
   "outputs": [
    {
     "name": "stdout",
     "output_type": "stream",
     "text": [
      "1.32 ms ± 20.6 μs per loop (mean ± std. dev. of 10 runs, 100 loops each)\n",
      "33.8 μs ± 2.18 μs per loop (mean ± std. dev. of 10 runs, 100 loops each)\n"
     ]
    }
   ],
   "source": [
    "jitted = jax.jit(env.methods.calc_cell_pdfs)\n",
    "jitted(params,config)\n",
    "%timeit -n100 -r10 env.methods.calc_cell_pdfs(params,config)\n",
    "%timeit -n100 -r10 jax.block_until_ready(jitted(params,config))"
   ]
  },
  {
   "cell_type": "code",
   "execution_count": 14,
   "metadata": {},
   "outputs": [
    {
     "name": "stdout",
     "output_type": "stream",
     "text": [
      "27.3 ms ± 859 μs per loop (mean ± std. dev. of 10 runs, 10 loops each)\n",
      "43.6 μs ± 5.5 μs per loop (mean ± std. dev. of 10 runs, 10 loops each)\n"
     ]
    }
   ],
   "source": [
    "jitted = jax.jit(env.step)\n",
    "jitted(params,config)\n",
    "%timeit -n10 -r10 env.step(params,config)\n",
    "%timeit -n10 -r10 jax.block_until_ready(jitted(params,config))"
   ]
  }
 ],
 "metadata": {
  "kernelspec": {
   "display_name": "fvdbm",
   "language": "python",
   "name": "python3"
  },
  "language_info": {
   "codemirror_mode": {
    "name": "ipython",
    "version": 3
   },
   "file_extension": ".py",
   "mimetype": "text/x-python",
   "name": "python",
   "nbconvert_exporter": "python",
   "pygments_lexer": "ipython3",
   "version": "3.12.4"
  }
 },
 "nbformat": 4,
 "nbformat_minor": 2
}
