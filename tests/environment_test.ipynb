{
 "cells": [
  {
   "cell_type": "code",
   "execution_count": 1,
   "metadata": {},
   "outputs": [],
   "source": [
    "import sys\n",
    "sys.path.append(\"..\")\n",
    "from src.environment import *\n",
    "from src.elements import *\n",
    "from src.dynamics import *\n",
    "from utils.test_utils import *"
   ]
  },
  {
   "cell_type": "code",
   "execution_count": 3,
   "metadata": {},
   "outputs": [],
   "source": [
    "dynamics = D2Q9()\n",
    "key = Key(1234)\n",
    "Element.dynamics = dynamics\n",
    "Environment.dynamics = dynamics\n",
    "cells = [Cell.pdf_init(jax.random.uniform(key(),dynamics.ones_pdf().shape),jnp.asarray([])) for i in range(100)]\n",
    "faces = [Face.pdf_init(jax.random.uniform(key(),dynamics.ones_pdf().shape),jnp.asarray([]),jnp.asarray([]),jnp.asarray([])) for i in range(100)]\n",
    "nodes = [Node.pdf_init(jax.random.uniform(key(),dynamics.ones_pdf().shape),jnp.asarray([]),jnp.asarray([])) for i in range(100)]\n",
    "env = Environment.create(cells,faces,nodes)"
   ]
  },
  {
   "cell_type": "code",
   "execution_count": 4,
   "metadata": {},
   "outputs": [
    {
     "data": {
      "text/plain": [
       "PyTreeDef({'cells': {'faces_index': *, 'pdf': *, 'pdf_eq': *, 'rho': *, 'vel': *}, 'faces': {'faces_index': *, 'pdf': *, 'pdf_eq': *, 'rho': *, 'vel': *}, 'nodes': {'cell_dists': *, 'cells_index': *, 'flux': *, 'pdf': *, 'rho': *, 'vel': *}})"
      ]
     },
     "execution_count": 4,
     "metadata": {},
     "output_type": "execute_result"
    }
   ],
   "source": [
    "params = env.init()\n",
    "jax.tree.structure(params)"
   ]
  },
  {
   "cell_type": "code",
   "execution_count": 6,
   "metadata": {},
   "outputs": [
    {
     "name": "stdout",
     "output_type": "stream",
     "text": [
      "554 μs ± 125 μs per loop (mean ± std. dev. of 10 runs, 100 loops each)\n",
      "233 μs ± 38.8 μs per loop (mean ± std. dev. of 10 runs, 100 loops each)\n"
     ]
    }
   ],
   "source": [
    "jitted = jax.jit(Environment.calc_cell_eqs)\n",
    "jitted(params)\n",
    "%timeit -n100 -r10 Environment.calc_cell_eqs(params)\n",
    "%timeit -n100 -r10 jitted(params)"
   ]
  },
  {
   "cell_type": "code",
   "execution_count": 6,
   "metadata": {},
   "outputs": [
    {
     "data": {
      "text/plain": [
       "Array([2, 3, 4, 5], dtype=int32)"
      ]
     },
     "execution_count": 6,
     "metadata": {},
     "output_type": "execute_result"
    }
   ],
   "source": [
    "i = jnp.asarray([1,2,3,4])\n",
    "x = jnp.asarray([1,2,3,4,5,6,7])\n",
    "x[i]"
   ]
  },
  {
   "cell_type": "code",
   "execution_count": null,
   "metadata": {},
   "outputs": [],
   "source": []
  }
 ],
 "metadata": {
  "kernelspec": {
   "display_name": "fvdbm",
   "language": "python",
   "name": "python3"
  },
  "language_info": {
   "codemirror_mode": {
    "name": "ipython",
    "version": 3
   },
   "file_extension": ".py",
   "mimetype": "text/x-python",
   "name": "python",
   "nbconvert_exporter": "python",
   "pygments_lexer": "ipython3",
   "version": "3.12.4"
  }
 },
 "nbformat": 4,
 "nbformat_minor": 2
}
