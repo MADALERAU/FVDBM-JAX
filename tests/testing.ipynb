{
 "cells": [
  {
   "cell_type": "code",
   "execution_count": 9,
   "id": "b50a35c1",
   "metadata": {},
   "outputs": [],
   "source": [
    "import sys\n",
    "sys.path.append(\"..\")\n",
    "import jax.numpy as jnp\n",
    "from src.containers import *\n",
    "from src.dynamics import *\n",
    "from tqdm import tqdm"
   ]
  },
  {
   "cell_type": "code",
   "execution_count": 10,
   "id": "d1a3d8d5",
   "metadata": {},
   "outputs": [],
   "source": [
    "dynamics = D2Q9(.1,.1)\n",
    "cells = Cells(100000,dynamics)"
   ]
  },
  {
   "cell_type": "code",
   "execution_count": null,
   "id": "1578a9dc",
   "metadata": {},
   "outputs": [
    {
     "name": "stderr",
     "output_type": "stream",
     "text": [
      "  0%|          | 0/1000 [00:00<?, ?it/s]"
     ]
    },
    {
     "name": "stderr",
     "output_type": "stream",
     "text": [
      "100%|██████████| 1000/1000 [00:11<00:00, 84.95it/s]\n"
     ]
    }
   ],
   "source": [
    "cells.calc_macros()"
   ]
  }
 ],
 "metadata": {
  "kernelspec": {
   "display_name": "fvdbm",
   "language": "python",
   "name": "python3"
  },
  "language_info": {
   "codemirror_mode": {
    "name": "ipython",
    "version": 3
   },
   "file_extension": ".py",
   "mimetype": "text/x-python",
   "name": "python",
   "nbconvert_exporter": "python",
   "pygments_lexer": "ipython3",
   "version": "3.12.4"
  }
 },
 "nbformat": 4,
 "nbformat_minor": 5
}
