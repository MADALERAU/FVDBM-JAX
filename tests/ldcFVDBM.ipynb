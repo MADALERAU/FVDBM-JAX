{
 "cells": [
  {
   "cell_type": "markdown",
   "metadata": {},
   "source": [
    "# LDC Implementation in Python/JAX\n",
    "Written By: Sungje Park"
   ]
  },
  {
   "cell_type": "code",
   "execution_count": 2,
   "metadata": {},
   "outputs": [],
   "source": [
    "import jax\n",
    "from jax import numpy as jnp\n",
    "\n",
    "import sys\n",
    "sys.path.append('..')\n",
    "from src.environment import *\n",
    "from src.elements import *\n",
    "from src.dynamics import *\n",
    "from utils.test_utils import *\n",
    "from src.methods import *"
   ]
  },
  {
   "cell_type": "markdown",
   "metadata": {},
   "source": [
    "Defining Vars."
   ]
  },
  {
   "cell_type": "code",
   "execution_count": 17,
   "metadata": {},
   "outputs": [],
   "source": [
    "rho_ref = 8 # reference density\n",
    "Mu = .1 # kinematic Viscosity\n",
    "Re = 100 # reynolds number\n",
    "N_x = 100 # number of cells in the x dir\n",
    "N_y = N_x # number of cells in the y dir\n",
    "dx = 1 # spacing in x\n",
    "dy = 1 # spacing in y\n",
    "U_lid = Re*Mu/N_x # velocity of lid\n",
    "Tau = 3*Mu+.5\n",
    "dt = 1"
   ]
  },
  {
   "cell_type": "code",
   "execution_count": 27,
   "metadata": {},
   "outputs": [],
   "source": [
    "cell_mesh = jnp.reshape(jnp.asarray(range(N_x*N_y)),(N_y,N_x))\n",
    "node_mesh = jnp.reshape(jnp.asarray(range((N_x+1)*(N_y+1))),(N_y+1,N_x+1))\n",
    "face_mesh = jnp.asarray(range(N_x*(N_y+1)+(N_x+1)*N_y))\n",
    "vert_mesh = jnp.reshape(face_mesh[0:N_x*(N_y+1)],(N_y,N_x+1))\n",
    "horz_mesh = jnp.reshape(face_mesh[N_x*(N_y+1):],(N_y+1,N_x))"
   ]
  },
  {
   "cell_type": "code",
   "execution_count": 37,
   "metadata": {},
   "outputs": [],
   "source": [
    "dynamics = D2Q9(tau=Tau,delta_t = dt)\n",
    "Element.dynamics = dynamics\n",
    "Environment.dynamics = dynamics"
   ]
  },
  {
   "cell_type": "code",
   "execution_count": 38,
   "metadata": {},
   "outputs": [],
   "source": [
    "def create_cell(cell_ind):\n",
    "    loc = jnp.argwhere(cell_mesh == cell_ind)[0]\n",
    "    x = loc[0]\n",
    "    y = loc[1]\n",
    "    pdf = dynamics.ones_pdf()\n",
    "    face_ind = jnp.asarray([vert_mesh[y,x],\n",
    "                            horz_mesh[y,x],\n",
    "                            vert_mesh[y,x+1],\n",
    "                            horz_mesh[y+1,x]])\n",
    "    face_n = jnp.asarray([1,1,-1,-1])\n",
    "    return Cell.pdf_init(pdf,face_ind,face_n)\n",
    "\n",
    "cells = [create_cell(ind) for ind in range(N_x*N_y)]"
   ]
  },
  {
   "cell_type": "code",
   "execution_count": 44,
   "metadata": {},
   "outputs": [
    {
     "data": {
      "text/plain": [
       "10000"
      ]
     },
     "execution_count": 44,
     "metadata": {},
     "output_type": "execute_result"
    }
   ],
   "source": [
    "len(cells)"
   ]
  },
  {
   "cell_type": "code",
   "execution_count": null,
   "metadata": {},
   "outputs": [],
   "source": [
    "def create_nodes(cell_ind):\n",
    "    "
   ]
  },
  {
   "cell_type": "code",
   "execution_count": 29,
   "metadata": {},
   "outputs": [
    {
     "data": {
      "text/plain": [
       "Array([[    0,     1,     2, ...,    98,    99,   100],\n",
       "       [  101,   102,   103, ...,   199,   200,   201],\n",
       "       [  202,   203,   204, ...,   300,   301,   302],\n",
       "       ...,\n",
       "       [ 9797,  9798,  9799, ...,  9895,  9896,  9897],\n",
       "       [ 9898,  9899,  9900, ...,  9996,  9997,  9998],\n",
       "       [ 9999, 10000, 10001, ..., 10097, 10098, 10099]], dtype=int32)"
      ]
     },
     "execution_count": 29,
     "metadata": {},
     "output_type": "execute_result"
    }
   ],
   "source": [
    "vert_mesh"
   ]
  },
  {
   "cell_type": "code",
   "execution_count": null,
   "metadata": {},
   "outputs": [],
   "source": []
  }
 ],
 "metadata": {
  "kernelspec": {
   "display_name": "fvdbm",
   "language": "python",
   "name": "python3"
  },
  "language_info": {
   "codemirror_mode": {
    "name": "ipython",
    "version": 3
   },
   "file_extension": ".py",
   "mimetype": "text/x-python",
   "name": "python",
   "nbconvert_exporter": "python",
   "pygments_lexer": "ipython3",
   "version": "3.12.4"
  }
 },
 "nbformat": 4,
 "nbformat_minor": 2
}
