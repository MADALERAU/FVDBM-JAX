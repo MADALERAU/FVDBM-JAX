{
 "cells": [
  {
   "cell_type": "markdown",
   "metadata": {},
   "source": [
    "# LDC Implementation in Python/JAX\n",
    "Written By: Sungje Park"
   ]
  },
  {
   "cell_type": "code",
   "execution_count": 1,
   "metadata": {},
   "outputs": [],
   "source": [
    "import jax\n",
    "from jax import numpy as jnp\n",
    "from jax import Array\n",
    "from jax.typing import ArrayLike\n",
    "from jax.tree_util import register_pytree_node_class\n",
    "\n",
    "import sys\n",
    "sys.path.append('..')\n",
    "from utils.utils import *"
   ]
  },
  {
   "cell_type": "markdown",
   "metadata": {},
   "source": [
    "Defining Vars."
   ]
  },
  {
   "cell_type": "code",
   "execution_count": 2,
   "metadata": {},
   "outputs": [],
   "source": [
    "rho_ref = 8 # reference density\n",
    "Mu = .1 # kinematic Viscosity\n",
    "Re = 100 # reynolds number\n",
    "N_x = 100 # number of cells in the x dir\n",
    "N_y = N_x # number of cells in the y dir\n",
    "dx = 1 # spacing in x\n",
    "dy = 1 # spacing in y\n",
    "U_lid = Re*Mu/N_x # velocity of lid"
   ]
  },
  {
   "cell_type": "code",
   "execution_count": 3,
   "metadata": {},
   "outputs": [],
   "source": [
    "class Dynamics():\n",
    "\n",
    "    #Static \n",
    "    DIM: int\n",
    "    NUM_QUIVERS: int\n",
    "    KSI: Array   # Matrix containing Define in sub-class\n",
    "    W: Array     # Define in sub-class\n",
    "\n",
    "    def calc_eq(self,pdf: ArrayLike):# Calculate Eq\n",
    "        pass\n",
    "\n",
    "    def ones_pdf(self):\n",
    "        return jnp.ones(self.NUM_QUIVERS)\n",
    "\n",
    "class D2Q9(Dynamics):\n",
    "    DIM = 2\n",
    "    NUM_QUIVERS = 9\n",
    "    KSI = jnp.array([[0,0],  # center\n",
    "                     [1,0],  # right\n",
    "                     [0,1],  # top\n",
    "                     [-1,0], # left\n",
    "                     [0,-1], # bottom\n",
    "                     [1,1],  # top-right\n",
    "                     [-1,1], # top-left\n",
    "                     [-1,-1],# bot-left\n",
    "                     [1,-1]])# bot-right\n",
    "    W = jnp.array([4/9,1/9,1/9,1/9,1/9,1/36,1/36,1/36,1/36])\n",
    "    C = 1/jnp.sqrt(3)\n",
    "    def __init__(self):\n",
    "        super().__init__()\n",
    "    \n",
    "    def calc_eq(self,rho: ArrayLike,vel:ArrayLike):\n",
    "        return self.W*rho*(1+(jnp.dot(self.KSI,vel))/(self.C**2)+(jnp.dot(self.KSI,vel))**2/(2*self.C**4)-(jnp.dot(vel,vel))/(2*self.C**2))\n",
    "dynamics = D2Q9()"
   ]
  },
  {
   "cell_type": "code",
   "execution_count": 25,
   "metadata": {},
   "outputs": [],
   "source": [
    "class Element:\n",
    "    def __init__(self):\n",
    "        pass\n",
    "\n",
    "class ElementContainer:\n",
    "    def __init__(self,elements: list[Element]):\n",
    "        self.elements = elements\n",
    "\n",
    "    def flatten(self):\n",
    "        assert all(self.elements[0].__class__ == element.__class__ for element in self.elements)\n",
    "\n",
    "        return pad_stack_tree([element.__dict__ for element in self.elements])\n",
    "\n",
    "class Cell(Element):\n",
    "    def __init__(self):\n",
    "        self.f = jnp.ones((dynamics.NUM_QUIVERS,))\n",
    "        self.u = jnp.zeros((dynamics.DIM,))\n",
    "        self.rho = jnp.zeros((1,))\n",
    "        self.faces = jnp.asarray([])\n",
    "\n",
    "class Face:\n",
    "    def __init__(self):\n",
    "        self.f = jnp.ones((dynamics.NUM_QUIVERS,))\n",
    "        self.cells = []\n",
    "\n",
    "class LDC:\n",
    "    def __init__(self):\n",
    "        self.cells = ElementContainer([Cell() for i in range(N_y*N_x)])\n",
    "        self.faces = ElementContainer([Face() for i in range(N_y*(N_x+1)*2)])\n",
    "\n",
    "    def cell_tuples(self,cell):\n",
    "        return cell.__dict__\n",
    "        \n",
    "    def init(self):\n",
    "        return {\"cells\": self.cells.flatten(),\"faces\": self.cells.flatten()}"
   ]
  },
  {
   "cell_type": "code",
   "execution_count": 26,
   "metadata": {},
   "outputs": [],
   "source": [
    "model = LDC()\n",
    "model.cells.elements[0].faces = jnp.asarray([1,2,3,4])"
   ]
  },
  {
   "cell_type": "code",
   "execution_count": 29,
   "metadata": {},
   "outputs": [
    {
     "data": {
      "text/plain": [
       "{'cells': {'f': Array([[1., 1., 1., ..., 1., 1., 1.],\n",
       "         [1., 1., 1., ..., 1., 1., 1.],\n",
       "         [1., 1., 1., ..., 1., 1., 1.],\n",
       "         ...,\n",
       "         [1., 1., 1., ..., 1., 1., 1.],\n",
       "         [1., 1., 1., ..., 1., 1., 1.],\n",
       "         [1., 1., 1., ..., 1., 1., 1.]], dtype=float32),\n",
       "  'faces': Array([[ 1.,  2.,  3.,  4.],\n",
       "         [-1., -1., -1., -1.],\n",
       "         [-1., -1., -1., -1.],\n",
       "         ...,\n",
       "         [-1., -1., -1., -1.],\n",
       "         [-1., -1., -1., -1.],\n",
       "         [-1., -1., -1., -1.]], dtype=float32),\n",
       "  'rho': Array([[0.],\n",
       "         [0.],\n",
       "         [0.],\n",
       "         ...,\n",
       "         [0.],\n",
       "         [0.],\n",
       "         [0.]], dtype=float32),\n",
       "  'u': Array([[0., 0.],\n",
       "         [0., 0.],\n",
       "         [0., 0.],\n",
       "         ...,\n",
       "         [0., 0.],\n",
       "         [0., 0.],\n",
       "         [0., 0.]], dtype=float32)},\n",
       " 'faces': {'f': Array([[1., 1., 1., ..., 1., 1., 1.],\n",
       "         [1., 1., 1., ..., 1., 1., 1.],\n",
       "         [1., 1., 1., ..., 1., 1., 1.],\n",
       "         ...,\n",
       "         [1., 1., 1., ..., 1., 1., 1.],\n",
       "         [1., 1., 1., ..., 1., 1., 1.],\n",
       "         [1., 1., 1., ..., 1., 1., 1.]], dtype=float32),\n",
       "  'faces': Array([[ 1.,  2.,  3.,  4.],\n",
       "         [-1., -1., -1., -1.],\n",
       "         [-1., -1., -1., -1.],\n",
       "         ...,\n",
       "         [-1., -1., -1., -1.],\n",
       "         [-1., -1., -1., -1.],\n",
       "         [-1., -1., -1., -1.]], dtype=float32),\n",
       "  'rho': Array([[0.],\n",
       "         [0.],\n",
       "         [0.],\n",
       "         ...,\n",
       "         [0.],\n",
       "         [0.],\n",
       "         [0.]], dtype=float32),\n",
       "  'u': Array([[0., 0.],\n",
       "         [0., 0.],\n",
       "         [0., 0.],\n",
       "         ...,\n",
       "         [0., 0.],\n",
       "         [0., 0.],\n",
       "         [0., 0.]], dtype=float32)}}"
      ]
     },
     "execution_count": 29,
     "metadata": {},
     "output_type": "execute_result"
    }
   ],
   "source": [
    "params = model.init()\n",
    "params"
   ]
  }
 ],
 "metadata": {
  "kernelspec": {
   "display_name": "fvdbm",
   "language": "python",
   "name": "python3"
  },
  "language_info": {
   "codemirror_mode": {
    "name": "ipython",
    "version": 3
   },
   "file_extension": ".py",
   "mimetype": "text/x-python",
   "name": "python",
   "nbconvert_exporter": "python",
   "pygments_lexer": "ipython3",
   "version": "3.12.4"
  }
 },
 "nbformat": 4,
 "nbformat_minor": 2
}
