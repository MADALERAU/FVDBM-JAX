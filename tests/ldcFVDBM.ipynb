{
 "cells": [
  {
   "cell_type": "markdown",
   "metadata": {},
   "source": [
    "# LDC Implementation in Python/JAX\n",
    "Written By: Sungje Park"
   ]
  },
  {
   "cell_type": "code",
   "execution_count": null,
   "metadata": {},
   "outputs": [],
   "source": [
    "import jax\n",
    "from jax import numpy as jnp\n",
    "\n",
    "import sys\n",
    "sys.path.append('..')\n",
    "from src.dynamics import *\n",
    "from src.environment import *\n",
    "from src.containers import *\n",
    "from src.cells import *\n",
    "from src.faces import *\n",
    "from src.nodes import *\n",
    "from utils.test_utils import *\n",
    "from tqdm import tqdm\n",
    "import matplotlib.pyplot as plt"
   ]
  },
  {
   "cell_type": "markdown",
   "metadata": {},
   "source": [
    "Defining Vars."
   ]
  },
  {
   "cell_type": "code",
   "execution_count": null,
   "metadata": {},
   "outputs": [],
   "source": [
    "rho_ref = 1 # reference density\n",
    "Mu = .1 # kinematic Viscosity\n",
    "Re = 100 # reynolds number\n",
    "N_x = 100 # number of cells in the x dir\n",
    "N_y = N_x # number of cells in the y dir\n",
    "dx = 1 # spacing in x\n",
    "dy = 1 # spacing in y\n",
    "U_lid = Re*Mu/N_x # velocity of lid\n",
    "Tau = 3*Mu+.5\n",
    "dt = .1"
   ]
  },
  {
   "cell_type": "code",
   "execution_count": null,
   "metadata": {},
   "outputs": [],
   "source": [
    "cell_mesh = jnp.reshape(jnp.asarray(range(N_x*N_y)),(N_y,N_x))\n",
    "node_mesh = jnp.reshape(jnp.asarray(range((N_x+1)*(N_y+1))),(N_y+1,N_x+1))\n",
    "face_mesh = jnp.asarray(range(N_x*(N_y+1)+(N_x+1)*N_y))\n",
    "vert_mesh = jnp.reshape(face_mesh[0:N_x*(N_y+1)],(N_y,N_x+1))\n",
    "horz_mesh = jnp.reshape(face_mesh[N_x*(N_y+1):],(N_y+1,N_x))"
   ]
  },
  {
   "cell_type": "code",
   "execution_count": null,
   "metadata": {},
   "outputs": [],
   "source": [
    "dynamics = D2Q13(tau=Tau,delta_t = dt)\n",
    "Environment.dynamics = dynamics"
   ]
  },
  {
   "cell_type": "code",
   "execution_count": null,
   "metadata": {},
   "outputs": [],
   "source": [
    "env = Environment.create(N_x*N_y,(N_x)*(N_x+1)*2,(N_x+1)*(N_y+1))"
   ]
  },
  {
   "cell_type": "code",
   "execution_count": null,
   "metadata": {},
   "outputs": [],
   "source": [
    "def setup_cell(cell_ind):\n",
    "    loc = jnp.argwhere(cell_mesh == cell_ind)[0]\n",
    "    x = loc[1]\n",
    "    y = loc[0]\n",
    "    face_ind = jnp.asarray([vert_mesh[y,x],\n",
    "                            horz_mesh[y,x],\n",
    "                            vert_mesh[y,x+1],\n",
    "                            horz_mesh[y+1,x]])\n",
    "    face_n = jnp.asarray([0,0,1,1])\n",
    "    env.cells.face_indices.add_items(cell_ind,face_ind)\n",
    "    env.cells.face_normals.add_items(cell_ind,face_n)\n",
    "\n",
    "cells = [setup_cell(ind) for ind in tqdm(range(N_x*N_y))]\n",
    "# Correction to flip face normals\n",
    "env.cells.face_normals.data = jnp.where(env.cells.face_normals.data==0,-1,env.cells.face_normals.data)"
   ]
  },
  {
   "cell_type": "code",
   "execution_count": null,
   "metadata": {},
   "outputs": [],
   "source": [
    "def setup_node(node_ind):\n",
    "    loc = jnp.argwhere(node_mesh==node_ind)[0]\n",
    "    x = loc[1]\n",
    "    y = loc[0]\n",
    "    cell_index = []\n",
    "    cell_dists = []\n",
    "    cell_dist = jnp.sqrt(2)\n",
    "    def cell_append(tl,tr,bl,br):\n",
    "        if tl:\n",
    "            cell_index.append(cell_mesh[y-1,x-1]) # top left\n",
    "            cell_dists.append(cell_dist)\n",
    "        if tr:\n",
    "            cell_index.append(cell_mesh[y-1,x]) # top right\n",
    "            cell_dists.append(cell_dist)\n",
    "\n",
    "        if br:\n",
    "            cell_index.append(cell_mesh[y,x]) # bottom right\n",
    "            cell_dists.append(cell_dist)\n",
    "\n",
    "        if bl:\n",
    "            cell_index.append(cell_mesh[y,x-1])# bottom left\n",
    "            cell_dists.append(cell_dist)\n",
    "\n",
    "    if y == 0:\n",
    "        type = 1\n",
    "        vel = jnp.asarray([U_lid,0])\n",
    "        if x!=0 and x!=N_x:\n",
    "            cell_append(False,False,True,True)\n",
    "        elif x==0:\n",
    "            vel = jnp.asarray([0,0])\n",
    "            cell_append(False,False,False,True)\n",
    "        elif x==N_x:\n",
    "            vel = jnp.asarray([0,0])\n",
    "            cell_append(False,False,True,False)\n",
    "\n",
    "    elif y == N_y:\n",
    "        type = 1\n",
    "        vel = jnp.asarray([0,0])\n",
    "        if x!=0 and x!=N_x:\n",
    "            cell_append(True,True,False,False)\n",
    "        elif x==0:\n",
    "            cell_append(False,True,False,False)\n",
    "        elif x==N_x:\n",
    "            cell_append(True,False,False,False)\n",
    "\n",
    "    elif x == 0:\n",
    "        type = 1\n",
    "        vel = jnp.asarray([0,0])\n",
    "        # since all corner cases handled\n",
    "        \n",
    "        cell_append(False,True,False,True)\n",
    "\n",
    "    elif x == N_x:\n",
    "        type = 1\n",
    "        vel = jnp.asarray([0,0])\n",
    "        cell_append(True,False,True,False)\n",
    "    else:\n",
    "        type = 0\n",
    "        cell_append(True,True,True,True)\n",
    "\n",
    "    env.nodes.type = env.nodes.type.at[node_ind].set(jnp.asarray(type))\n",
    "    env.nodes.cells_index.add_items(node_ind,jnp.asarray(cell_index))\n",
    "    env.nodes.cell_dists.add_items(node_ind,jnp.asarray(cell_dists))\n",
    "    if type == 1:\n",
    "        env.nodes.vel = env.nodes.vel.at[node_ind].set(vel)\n",
    "nodes = [setup_node(ind) for ind in tqdm(range((N_x+1)*(N_y+1)))]"
   ]
  },
  {
   "cell_type": "code",
   "execution_count": null,
   "metadata": {},
   "outputs": [],
   "source": [
    "def setup_face(face_ind):\n",
    "    nodes_ind = []\n",
    "    stencil_ind = []\n",
    "    stencil_dists = jnp.asarray([.5,.5])\n",
    "    \n",
    "    if face_ind < N_x*(N_y+1): # vertical faces\n",
    "        loc = jnp.argwhere(vert_mesh==face_ind)[0]\n",
    "        x = loc[1]\n",
    "        y = loc[0]\n",
    "        nodes_ind.append(jnp.asarray(node_mesh[y,x]))\n",
    "        nodes_ind.append(jnp.asarray(node_mesh[y+1,x]))\n",
    "\n",
    "        if x == 0:\n",
    "            stencil_ind.append(-2)\n",
    "            stencil_ind.append(cell_mesh[y,x])\n",
    "        elif x == N_x:\n",
    "            stencil_ind.append(cell_mesh[y,x-1])\n",
    "            stencil_ind.append(-2)\n",
    "        else:\n",
    "            stencil_ind.append(cell_mesh[y,x-1])\n",
    "            stencil_ind.append(cell_mesh[y,x])\n",
    "\n",
    "        n = jnp.asarray([1,0])\n",
    "    else: # horizontal faces\n",
    "        loc = jnp.argwhere(horz_mesh==face_ind)[0]\n",
    "        x = loc[1]\n",
    "        y = loc[0]\n",
    "        nodes_ind.append(jnp.asarray(node_mesh[y,x]))\n",
    "        nodes_ind.append(jnp.asarray(node_mesh[y,x+1]))\n",
    "\n",
    "        if y == 0:\n",
    "            stencil_ind.append(-2)\n",
    "            stencil_ind.append(cell_mesh[y,x])\n",
    "        elif y == N_y:\n",
    "            stencil_ind.append(cell_mesh[y-1,x])\n",
    "            stencil_ind.append(-2)\n",
    "        else:\n",
    "            stencil_ind.append(cell_mesh[y-1,x])\n",
    "            stencil_ind.append(cell_mesh[y,x])\n",
    "\n",
    "        n = jnp.asarray([0,1])\n",
    "\n",
    "    #face = Face.pdf_init(pdf,jnp.asarray(nodes_ind),jnp.asarray(stencil_ind),jnp.asarray(stencil_dists),n,jnp.asarray(1))\n",
    "    env.faces.nodes_index.add_items(face_ind, jnp.asarray(nodes_ind))\n",
    "    env.faces.stencil_cells_index.add_items(face_ind, jnp.asarray(stencil_ind))\n",
    "    env.faces.stencil_dists.add_items(face_ind, jnp.asarray(stencil_dists))\n",
    "    env.faces.n = env.faces.n.at[face_ind].set(n)\n",
    "    env.faces.L = env.faces.L.at[face_ind].set(jnp.asarray(1))\n",
    "\n",
    "faces = [setup_face(ind) for ind in tqdm(range((N_x)*(N_x+1)*2))]\n",
    "env.faces.stencil_cells_index.data = jnp.where(env.faces.stencil_cells_index.data==-2,-1,env.faces.stencil_cells_index.data)"
   ]
  },
  {
   "cell_type": "code",
   "execution_count": null,
   "metadata": {},
   "outputs": [],
   "source": [
    "env.init()"
   ]
  },
  {
   "cell_type": "code",
   "execution_count": null,
   "metadata": {},
   "outputs": [],
   "source": [
    "env = env.step()"
   ]
  },
  {
   "cell_type": "code",
   "execution_count": null,
   "metadata": {},
   "outputs": [],
   "source": [
    "for i in tqdm(range(500000)):\n",
    "    env = env.step()"
   ]
  },
  {
   "cell_type": "code",
   "execution_count": null,
   "metadata": {},
   "outputs": [],
   "source": [
    "vel = env.cells.vel/U_lid"
   ]
  },
  {
   "cell_type": "code",
   "execution_count": null,
   "metadata": {},
   "outputs": [],
   "source": [
    "x = jnp.linspace(1/2/N_x,1-1/2/N_x,N_x)\n",
    "y = jnp.linspace(1/2/N_y,1-1/2/N_y,N_y)\n",
    "# x,y = jnp.meshgrid(x,y)\n",
    "# x = x.flatten()\n",
    "# y = y.flatten()"
   ]
  },
  {
   "cell_type": "code",
   "execution_count": null,
   "metadata": {},
   "outputs": [],
   "source": [
    "import numpy as np\n",
    "x = np.linspace(1/(2*N_x),1-1/(2*N_x),N_x)\n",
    "y = np.linspace(1/(2*N_y),1-1/(2*N_y),N_y)\n",
    "u = np.asarray(vel[...,0].reshape(N_x,N_y))\n",
    "v = np.asarray(vel[...,1].reshape(N_x,N_y))\n",
    "plt.streamplot(x,y,u,v)\n",
    "plt.axis(\"square\")\n",
    "plt.xlim([0,1])\n",
    "plt.ylim([0,1])\n",
    "plt.gca().invert_yaxis()\n",
    "plt.show()"
   ]
  },
  {
   "cell_type": "code",
   "execution_count": null,
   "metadata": {},
   "outputs": [],
   "source": [
    "plt.imshow(jnp.sqrt(vel[...,0]**2+vel[...,1]**2).reshape(N_x,N_y))\n",
    "plt.title(\"Velocity Magnitude\")\n",
    "plt.colorbar()\n",
    "plt.show()"
   ]
  },
  {
   "cell_type": "code",
   "execution_count": null,
   "metadata": {},
   "outputs": [],
   "source": [
    "outx = jnp.mean(vel.reshape(N_x,N_y,2)[49:51,:,1],axis=0)\n",
    "outy = jnp.mean(vel.reshape(N_x,N_y,2)[:,49:51,0],axis=1)"
   ]
  },
  {
   "cell_type": "code",
   "execution_count": null,
   "metadata": {},
   "outputs": [],
   "source": [
    "from scipy.io import loadmat\n",
    "data = loadmat('../ref/ldc_Re100.mat')\n",
    "refu = data['u'].T[...,jnp.newaxis]\n",
    "refv = data['v'].T[...,jnp.newaxis]\n",
    "refx = data['x'].squeeze()\n",
    "refy = data['y'].squeeze()\n",
    "# x,y = jnp.meshgrid(x,y)\n",
    "# x = jnp.expand_dims(x.flatten(),axis=-1)\n",
    "# y = jnp.expand_dims(y.flatten(),axis=-1)\n",
    "# xy = jnp.concatenate((x,y),axis=-1)\n",
    "sol = jnp.concatenate((refu,refv),axis=-1)"
   ]
  },
  {
   "cell_type": "code",
   "execution_count": null,
   "metadata": {},
   "outputs": [],
   "source": [
    "solx = sol[128,:,1]\n",
    "soly = sol[:,128,0]"
   ]
  },
  {
   "cell_type": "code",
   "execution_count": null,
   "metadata": {},
   "outputs": [],
   "source": [
    "plt.plot(refy,solx)\n",
    "plt.plot(x,-outx)\n",
    "plt.xlabel\n",
    "plt.show()"
   ]
  },
  {
   "cell_type": "code",
   "execution_count": null,
   "metadata": {},
   "outputs": [],
   "source": [
    "plt.plot(refy,soly)\n",
    "plt.plot(np.flip(y),outy)\n",
    "plt.xlabel\n",
    "plt.show()"
   ]
  },
  {
   "cell_type": "code",
   "execution_count": null,
   "metadata": {},
   "outputs": [],
   "source": []
  }
 ],
 "metadata": {
  "kernelspec": {
   "display_name": "fvdbm",
   "language": "python",
   "name": "python3"
  },
  "language_info": {
   "codemirror_mode": {
    "name": "ipython",
    "version": 3
   },
   "file_extension": ".py",
   "mimetype": "text/x-python",
   "name": "python",
   "nbconvert_exporter": "python",
   "pygments_lexer": "ipython3",
   "version": "3.12.4"
  }
 },
 "nbformat": 4,
 "nbformat_minor": 2
}
