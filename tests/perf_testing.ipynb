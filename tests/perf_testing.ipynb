{
 "cells": [
  {
   "cell_type": "markdown",
   "metadata": {},
   "source": [
    "List indexing vs Array Indexing"
   ]
  },
  {
   "cell_type": "code",
   "execution_count": 1,
   "metadata": {},
   "outputs": [
    {
     "name": "stdout",
     "output_type": "stream",
     "text": [
      "539 ms ± 28.6 ms per loop (mean ± std. dev. of 10 runs, 1 loop each)\n",
      "The slowest run took 1376.08 times longer than the fastest. This could mean that an intermediate result is being cached.\n",
      "1.08 ms ± 3.21 ms per loop (mean ± std. dev. of 10 runs, 1 loop each)\n"
     ]
    }
   ],
   "source": [
    "import jax\n",
    "import numpy as np\n",
    "import jax.numpy as jnp\n",
    "x = tuple(np.arange(10000))\n",
    "n = 100\n",
    "\n",
    "def pure_func(x,n):\n",
    "    return x[n]\n",
    "\n",
    "@jax.jit\n",
    "def func(x,n):\n",
    "    return jax.pure_callback(pure_func,jax.ShapeDtypeStruct((),jnp.int32),x,n)\n",
    "func(x,n)\n",
    "\n",
    "@jax.jit\n",
    "def func2(x,n):\n",
    "    return x[n]\n",
    "y = jnp.asarray(x)\n",
    "func(x,n)\n",
    "func2(y,n)\n",
    "\n",
    "%timeit -n1 -r10 func(x,n)\n",
    "%timeit -n1 -r10 func2(y,n)"
   ]
  }
 ],
 "metadata": {
  "kernelspec": {
   "display_name": "fvdbm",
   "language": "python",
   "name": "python3"
  },
  "language_info": {
   "codemirror_mode": {
    "name": "ipython",
    "version": 3
   },
   "file_extension": ".py",
   "mimetype": "text/x-python",
   "name": "python",
   "nbconvert_exporter": "python",
   "pygments_lexer": "ipython3",
   "version": "3.12.4"
  }
 },
 "nbformat": 4,
 "nbformat_minor": 2
}
